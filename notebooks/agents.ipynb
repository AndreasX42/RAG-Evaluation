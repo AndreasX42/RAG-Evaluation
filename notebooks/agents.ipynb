{
 "cells": [
  {
   "cell_type": "code",
   "execution_count": null,
   "id": "682a4d40-4517-42ba-816b-0d01e81c464b",
   "metadata": {},
   "outputs": [],
   "source": [
    "import dotenv\n",
    "dotenv.load_dotenv(dotenv.find_dotenv(), override=True)\n",
    "\n",
    "from langchain.agents.agent_toolkits import create_python_agent\n",
    "from langchain.tools.python.tool import PythonREPLTool\n",
    "from langchain.chat_models import ChatOpenAI\n",
    "from langchain.agents import initialize_agent, Tool\n",
    "from langchain.utilities import WikipediaAPIWrapper\n",
    "\n",
    "tools = [\n",
    "    Tool(\n",
    "        name=\"Wikipedia\",\n",
    "        func=WikipediaAPIWrapper().run,\n",
    "        description=\"Useful for when you need to get information from wikipedia about a topic\"\n",
    "    ),\n",
    "    Tool(\n",
    "        name=\"pythonrepl\",\n",
    "        func=PythonREPLTool(),\n",
    "        description=\"Useful for when you have to perform calculations\"\n",
    "    )\n",
    "]\n",
    "\n",
    "llm = ChatOpenAI(temperature=0, model=\"gpt-3.5-turbo\")\n",
    "\n",
    "agent_executor = initialize_agent(tools, llm, agent=\"zero-shot-react-description\", verbose=True)"
   ]
  },
  {
   "cell_type": "code",
   "execution_count": null,
   "id": "a01231de-630d-4395-be57-16090099b727",
   "metadata": {},
   "outputs": [],
   "source": [
    "output = agent_executor.run(\"Find the age of Elon Musk in years and multiply his age by 10\")"
   ]
  },
  {
   "cell_type": "code",
   "execution_count": null,
   "id": "34e3f0b8-a901-4fcf-84a5-d27a360d81a1",
   "metadata": {},
   "outputs": [],
   "source": [
    "output = agent_executor.run(\"You are participating in a game show, where you have to choose 1 of 3 doors. Behind 2 doors are goats\\\n",
    "and only behind one door is the real price of a car. You have to choose one door. What is the probability of choosing the\\\n",
    "right door with the car behind it? After that, imagine before choosing the door the moderator of the show opens a door\\\n",
    "for you and has a goat behind it. Now you are left to choose one of 2 doors. What is the probability of choosing the door\\\n",
    "with the car now?\")"
   ]
  },
  {
   "cell_type": "code",
   "execution_count": null,
   "id": "19f1394b-10f9-4714-849e-f9d85e55c9fc",
   "metadata": {},
   "outputs": [],
   "source": [
    "output = agent_executor.run(\"\"\"Using this api, 'https://jsonmock.hackerrank.com/api/medical_records', implement a \n",
    "well formated Python function using a request get api call with this\\\n",
    "description:\\\n",
    "\n",
    "Function Description\\\n",
    "Complete the function bodyTemperature in the editor below.\\\n",
    "\n",
    "bodyTemperature has the following parameters:\\\n",
    "\n",
    "    string doctorName:  the name of the doctor\\\n",
    "    integer diagnosisId: the id of the diagnosis\\\n",
    "\n",
    "Returns\\\n",
    "    Two integer values of minimum and maximum body temperatures\n",
    "    \n",
    "The data field in the response contains a list of medical records with the following schema:\n",
    "\n",
    "    id: the unique ID of the record\n",
    "    timestamp: the timestamp when the record was generated (In UTC as milliseconds)\n",
    "    userId: the id of the user for whom the transaction has been recorded\n",
    "    userName : the name of the patient for whom the transaction has been recorded\n",
    "    userDob: the date of birth of user in format DD-MM-YYYY\n",
    "    vitals: object, the vitals of the user\n",
    "        vitals.bloodPressureDiastole: the diastolic pressure reading of the user, mmHg\n",
    "        vitals.bloodPressureSystole: the systolic pressure reading of the user, mmHg\n",
    "        vitals.pulse: the pulse rate of the user, beats per minute\n",
    "        vitals.breathingRate: the breathing rate of the user, breaths per minute\n",
    "        vitals.bodyTemperature: the body temperature of the user, degrees Fahrenheit\n",
    "    diagnosis: object, the diagnosis for the user\n",
    "        diagnosis.id: the id of the condition diagnosed\n",
    "        diagnosis.name: the name of the condition diagnosed\n",
    "        diagnosis.severity: the severity of the condition diagnosed\n",
    "    doctor: object, the doctor who diagnosed the condition\n",
    "        doctor.id: the id of the doctor who diagnosed the condition\n",
    "        doctor.name: the name of the doctor who diagnosed the condition\n",
    "    meta: object, the meta information of the user\n",
    "        meta.height: The current height of the user, centimeters\n",
    "        meta.weight: The current weight of the user, pounds\n",
    "        \n",
    "        \n",
    "        Check that the final answer you give really contains the two integer values, if not correct the response!!!\"\"\")"
   ]
  },
  {
   "cell_type": "code",
   "execution_count": null,
   "id": "b74ee157-e124-4e78-8e27-eca8eedc407f",
   "metadata": {},
   "outputs": [],
   "source": []
  },
  {
   "cell_type": "code",
   "execution_count": null,
   "id": "9ffa1379-19d0-485f-8c57-efbdb7d7c6c7",
   "metadata": {},
   "outputs": [],
   "source": []
  },
  {
   "cell_type": "code",
   "execution_count": null,
   "id": "8b637405-5d28-48de-9d2e-ae4b26671798",
   "metadata": {},
   "outputs": [],
   "source": []
  },
  {
   "cell_type": "code",
   "execution_count": null,
   "id": "aa517a35-7cf5-4136-a0ea-f2628ebf80e1",
   "metadata": {},
   "outputs": [],
   "source": []
  },
  {
   "cell_type": "code",
   "execution_count": null,
   "id": "92cde3ea-d336-489b-be09-41e2eaa19f11",
   "metadata": {},
   "outputs": [],
   "source": []
  }
 ],
 "metadata": {
  "kernelspec": {
   "display_name": "Python 3 (ipykernel)",
   "language": "python",
   "name": "python3"
  },
  "language_info": {
   "codemirror_mode": {
    "name": "ipython",
    "version": 3
   },
   "file_extension": ".py",
   "mimetype": "text/x-python",
   "name": "python",
   "nbconvert_exporter": "python",
   "pygments_lexer": "ipython3",
   "version": "3.11.5"
  }
 },
 "nbformat": 4,
 "nbformat_minor": 5
}
