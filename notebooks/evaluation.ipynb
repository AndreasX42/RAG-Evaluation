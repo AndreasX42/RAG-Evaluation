{
 "cells": [
  {
   "cell_type": "code",
   "execution_count": 1,
   "id": "a3f077f9-cb9d-4b61-b3a9-72bcb2fd57c0",
   "metadata": {},
   "outputs": [
    {
     "ename": "ImportError",
     "evalue": "cannot import name 'generate_eval_set' from 'eval_backend.testsetgen.test_set_generator' (C:\\Users\\andre\\OneDrive\\Desktop\\ML\\myRepos\\RAG-Evaluation\\notebooks\\..\\eval_backend\\testsetgen\\test_set_generator.py)",
     "output_type": "error",
     "traceback": [
      "\u001b[1;31m---------------------------------------------------------------------------\u001b[0m",
      "\u001b[1;31mImportError\u001b[0m                               Traceback (most recent call last)",
      "Cell \u001b[1;32mIn[1], line 24\u001b[0m\n\u001b[0;32m     21\u001b[0m sys\u001b[38;5;241m.\u001b[39mpath\u001b[38;5;241m.\u001b[39mappend(Path\u001b[38;5;241m.\u001b[39mcwd())\n\u001b[0;32m     23\u001b[0m \u001b[38;5;28;01mfrom\u001b[39;00m \u001b[38;5;21;01meval_backend\u001b[39;00m\u001b[38;5;21;01m.\u001b[39;00m\u001b[38;5;21;01mutils\u001b[39;00m \u001b[38;5;28;01mimport\u001b[39;00m load_and_chunk_doc\n\u001b[1;32m---> 24\u001b[0m \u001b[38;5;28;01mfrom\u001b[39;00m \u001b[38;5;21;01meval_backend\u001b[39;00m\u001b[38;5;21;01m.\u001b[39;00m\u001b[38;5;21;01mtestsetgen\u001b[39;00m\u001b[38;5;21;01m.\u001b[39;00m\u001b[38;5;21;01mtest_set_generator\u001b[39;00m \u001b[38;5;28;01mimport\u001b[39;00m generate_eval_set, get_qa_from_chunk\n\u001b[0;32m     25\u001b[0m \u001b[38;5;28;01mfrom\u001b[39;00m \u001b[38;5;21;01meval_backend\u001b[39;00m\u001b[38;5;21;01m.\u001b[39;00m\u001b[38;5;21;01mcommons\u001b[39;00m \u001b[38;5;28;01mimport\u001b[39;00m Hyperparameters\n\u001b[0;32m     27\u001b[0m \u001b[38;5;28;01mimport\u001b[39;00m \u001b[38;5;21;01mjson\u001b[39;00m\n",
      "\u001b[1;31mImportError\u001b[0m: cannot import name 'generate_eval_set' from 'eval_backend.testsetgen.test_set_generator' (C:\\Users\\andre\\OneDrive\\Desktop\\ML\\myRepos\\RAG-Evaluation\\notebooks\\..\\eval_backend\\testsetgen\\test_set_generator.py)"
     ]
    }
   ],
   "source": [
    "import warnings\n",
    "warnings.filterwarnings('ignore')\n",
    "\n",
    "import dotenv\n",
    "dotenv.load_dotenv(dotenv.find_dotenv(), override=True)\n",
    "\n",
    "import numpy as np\n",
    "\n",
    "from typing import Any, Dict, List, Optional, Callable\n",
    "\n",
    "from langchain.docstore.document import Document\n",
    "from langchain.schema.language_model import BaseLanguageModel\n",
    "from langchain.chat_models import ChatOpenAI\n",
    "\n",
    "import os\n",
    "import sys\n",
    "from pathlib import Path\n",
    "\n",
    "sys.path.append(\"../eval_backend/\")\n",
    "sys.path.append(\"../\")\n",
    "sys.path.append(Path.cwd())\n",
    "\n",
    "from eval_backend.utils import load_and_chunk_doc\n",
    "from eval_backend.testsetgen.test_set_generator import generate_eval_set, get_qa_from_chunk\n",
    "from eval_backend.commons import Hyperparameters\n",
    "\n",
    "import json\n",
    "with open(\"./eval_set.json\", \"r\", encoding=\"utf-8\") as file:\n",
    "    # Load existing data into a list\n",
    "    gt_dataset = json.load(file)\n",
    "\n",
    "doc = \"../resources/msg_life-gb-2021-EN_final.pdf\""
   ]
  },
  {
   "cell_type": "code",
   "execution_count": null,
   "id": "f6ce21cf-7d2c-4091-9418-83b551a4e728",
   "metadata": {},
   "outputs": [],
   "source": []
  },
  {
   "cell_type": "code",
   "execution_count": 5,
   "id": "972d4529-e493-4cec-a496-0eff4abf7ae3",
   "metadata": {},
   "outputs": [
    {
     "data": {
      "text/plain": [
       "1.5"
      ]
     },
     "execution_count": 5,
     "metadata": {},
     "output_type": "execute_result"
    }
   ],
   "source": [
    "import numpy as np\n",
    "\n",
    "np.average([1,2])"
   ]
  },
  {
   "cell_type": "code",
   "execution_count": null,
   "id": "0369d0bb-f397-4fc7-840d-b80ed4342d45",
   "metadata": {},
   "outputs": [],
   "source": []
  },
  {
   "cell_type": "code",
   "execution_count": null,
   "id": "daa46414-8494-4f39-bdc1-be2599939bcd",
   "metadata": {},
   "outputs": [],
   "source": []
  },
  {
   "cell_type": "markdown",
   "id": "5bc0d927-ecba-41fc-8378-35de3fab0d55",
   "metadata": {},
   "source": [
    "# load and split data into chunks"
   ]
  },
  {
   "cell_type": "code",
   "execution_count": 2,
   "id": "c1b9c062-57f2-4bca-bf89-1b039a1293fc",
   "metadata": {},
   "outputs": [
    {
     "name": "stdout",
     "output_type": "stream",
     "text": [
      "number of tokens in document: 45390\n",
      "number of chunks: 14\n",
      "average number of tokens per chunk: 3242.1428571428573\n"
     ]
    }
   ],
   "source": [
    "qa_gen_configs =     {\n",
    "        \"chunk_size\": 3400,\n",
    "        \"chunk_overlap\": 0,\n",
    "        \"num_retrieved_docs\": 3,\n",
    "        \"use_llm_grader\": False,\n",
    "        \"length_function_name\": \"text-embedding-ada-002\",\n",
    "        \"grade_answer_prompt\": None,\n",
    "        \"grade_docs_prompt\": None,\n",
    "        \"embedding_model\": \"text-embedding-ada-002\",\n",
    "        \"retrieval_llm\": \"gpt-3.5-turbo\",\n",
    "        \"grader_llm\": \"gpt-3.5-turbo\",\n",
    "    }\n",
    "hp = Hyperparameters.from_dict(qa_gen_configs)\n",
    "\n",
    "chunks = load_and_chunk_doc(hp, doc)\n",
    "\n",
    "llm = ChatOpenAI(temperature=0, model=\"gpt-3.5-turbo\")\n",
    "\n",
    "print(f\"number of tokens in document: {sum([llm.get_num_tokens(chunk.page_content) for chunk in chunks])}\\\n",
    "\\nnumber of chunks: {len(chunks)}\\\n",
    "\\naverage number of tokens per chunk: {np.average([llm.get_num_tokens(chunk.page_content) for chunk in chunks])}\")"
   ]
  },
  {
   "cell_type": "code",
   "execution_count": null,
   "id": "8d039c1e-a9cb-4e5a-acf3-f0b9d0ccfc06",
   "metadata": {},
   "outputs": [],
   "source": []
  },
  {
   "cell_type": "code",
   "execution_count": null,
   "id": "f4bcdab4-8736-404a-9b65-e15caa0481f9",
   "metadata": {},
   "outputs": [],
   "source": []
  },
  {
   "cell_type": "markdown",
   "id": "864a584f-ecab-45be-815a-acc3c515c3f6",
   "metadata": {},
   "source": [
    "# Generate Q/A pairs"
   ]
  },
  {
   "cell_type": "code",
   "execution_count": null,
   "id": "e718144d-8fa6-41e3-8fbf-467cf93cc40a",
   "metadata": {},
   "outputs": [],
   "source": [
    "# generate a Q/A pair for a document chunk\n",
    "# result = generate_eval_set(llm, chunks)\n",
    "# from eval_backend.utils import write_json\n",
    "# write_json(gt_dataset, filename=\"./eval_set.json\")"
   ]
  },
  {
   "cell_type": "code",
   "execution_count": 3,
   "id": "e83baab1-7f3d-402f-9c2e-cf281c3e7fde",
   "metadata": {
    "scrolled": true
   },
   "outputs": [],
   "source": [
    "d =     {\n",
    "        \"chunk_size\": 2048,\n",
    "        \"chunk_overlap\": 0,\n",
    "        \"num_retrieved_docs\": 3,\n",
    "        \"use_llm_grader\": False,\n",
    "        \"length_function_name\": \"text-embedding-ada-002\",\n",
    "        \"grade_answer_prompt\": \"3cats_zero_shot\",\n",
    "        \"grade_docs_prompt\": \"default\",\n",
    "        \"embedding_model\": \"text-embedding-ada-002\",\n",
    "        \"retrieval_llm\": \"gpt-3.5-turbo\",\n",
    "        \"grader_llm\": \"gpt-4\"\n",
    "    }\n",
    "\n",
    "\n",
    "res = await generate_eval_set(d, doc)"
   ]
  },
  {
   "cell_type": "code",
   "execution_count": 11,
   "id": "b019b039-999f-48cf-b747-a6aea53fbad8",
   "metadata": {},
   "outputs": [
    {
     "name": "stdout",
     "output_type": "stream",
     "text": [
      "What activities did the Supervisory Board perform in the 2021 financial year?\n",
      "The Supervisory Board diligently performed its duties in the 2021 financial year by monitoring the activities of the Management Board, comparing actual business performance against targets, and scrutinizing the operational and strategic performance of the company. They also discussed the current indicators of earnings, financial and assets position of the msg life Group, as well as important projects and the general development of the market climates.\n",
      "--------------------------------------------------\n",
      "What reports did the Supervisory Board receive from the Management Board?\n",
      "The Supervisory Board received detailed reports from the Management Board in preparation for each meeting. These reports included information on the current business situation of the company and its individual segments, major sales projects, risk management, compliance, auditing, data protection, and relationships with affiliated companies. The Management Board also provided monthly details of key performance indicators, explaining any deviations from plans. Additionally, the Chairman of the Supervisory Board was in constant contact with the Management Board, inquiring about current business developments and important transactions.\n",
      "--------------------------------------------------\n",
      "Who were appointed as Chairman and Deputy Chairman of the Supervisory Board?\n",
      "At the meeting held after the annual general meeting on 24 June 2021, Johann Zehetmaier was appointed as Chairman and Dr Martin Strobel was appointed as Deputy Chairman of the Supervisory Board.\n",
      "--------------------------------------------------\n",
      "Who was appointed as the auditor of the annual financial statements and consolidated financial statements for the 2021 financial year?\n",
      "The annual general meeting held on 24 June 2021 appointed Baker Tilly GmbH & Co. KG Wirtschaftsprüfungsgesellschaft in Düsseldorf as auditor of the annual financial statements and consolidated financial statements for the 2021 financial year.\n",
      "--------------------------------------------------\n",
      "What is the significance of the control agreement signed by msg life ag and msg systems ag?\n",
      "The control agreement signed by msg life ag and msg systems ag is significant because it was approved by the annual general meetings of both companies. This agreement establishes control over msg life ag by msg systems ag, indicating a level of influence and decision-making power that msg systems ag has over msg life ag.\n",
      "--------------------------------------------------\n",
      "Who are the members of the Management Board of msg life ag as of 31 December 2021?\n",
      "As of 31 December 2021, the members of the Management Board of msg life ag were Rolf Zielke (Chairman), Dr Aristid Neuburger (Deputy Chairman), Francesco Cargnel, Holger Gorissen, Robert Hess, Milenko Radic, Jens Stäcker, and Dr Wolf Wiedmann. However, it should be noted that after the end of the reporting period, Dr Aristid Neuburger and Jens Stäcker stepped down as members of the Management Board of the company with effect from the end of business on 28 February 2022.\n",
      "--------------------------------------------------\n",
      "What are the key products and services offered by msg life AG?\n",
      "The company's core product is the policy management system msg.Life Factory, which is used to manage life insurance and pension products. They also offer other core insurance systems such as msg.Life and Unified Administration Platform (UAP). Additionally, they provide specialized functions and services through products like msg.ZVK Factory, msg.Zulagenverwaltung, msg.RAN, Unified Product Platform, msg.Office, msg.Tax Connect, msg.Tax Data, msg.Tax Data - Pflege-Bahr, msg.Sales, msg.Underwriting, msg.Ilis, msg.Pension, msg.Pension Data, msg.Marsy-Pension, and msg.Online Insure. They also offer consulting and services related to software implementation and policy migration.\n",
      "--------------------------------------------------\n",
      "What is the forecast for global economic growth in 2022?\n",
      "According to the Global Economic Prospect Report published by the World Bank in January 2022, economists expect the global growth rate to fall from 5.5 per cent in 2021 to 4.1 per cent this year. The International Monetary Fund (IMF) recently downgraded its forecast and expects the global economy to grow by just 4.4 per cent this year. The IMF predicts growth of 3.2 per cent in 2023.\n",
      "--------------------------------------------------\n",
      "What sectors of the German economy showed improvement in 2021?\n",
      "The manufacturing sector showed an improvement of 4.4% year-on-year, while the aggregated economic sector of trade, transport, accommodation, and food services saw growth of 3.0%. The construction sector reported a slight decline of 0.4%, and other services, including culture, entertainment, sports, and creative activities, grew by just 0.6% following a decline of 10.5% in the previous year.\n",
      "--------------------------------------------------\n",
      "How did the German insurance industry perform in the 2021 financial year?\n",
      "The German insurance industry closed the 2021 financial year with a 'solid' performance, reporting an increase in premiums of 1.1 per cent across all segments, reaching 223.4 billion euros.\n",
      "--------------------------------------------------\n",
      "What was the ECB's decision regarding the rate of PEPP purchases in September 2021?\n",
      "In September 2021, the ECB decided to reduce the rate of PEPP purchases moderately.\n",
      "--------------------------------------------------\n",
      "What are some important IT projects in the insurance industry?\n",
      "According to the publication 'Insurance IT: A key to greater sustainability', software standardisation, the replacement of legacy systems, and cloud computing are among the most important IT projects in the insurance industry. The report also states that more than 60% of insurers are currently working to migrate to cloud-based solutions.\n",
      "--------------------------------------------------\n",
      "How did the insurance industry in Europe and the USA fare during the pandemic?\n",
      "According to the European Insurance Study 2021, the insurance industry in Europe managed to remain profitable in 2020 despite larger drops in profits and premiums in some cases. The European Insurance and Occupational Pensions Authority (EIOPA) also describes the European insurance industry as 'fundamentally robust'. In the USA, insurers survived the crisis relatively well, with overall gross premiums growing by 0.6% in 2020. However, life premiums decreased by 1.4%. The USA remains a global market leader, accounting for more than 40% of the global market.\n",
      "--------------------------------------------------\n",
      "What markets does msg life serve and what sales successes did they achieve in 2021?\n",
      "msg life serves the German-speaking market, the Benelux market, the United States market, the Spanish and Portuguese markets, and the Central and Eastern European markets. In 2021, msg life achieved sales successes in the German-speaking market with contracts for the rollout of msg.Insurance Suite, msg.RAN, msg.Tax Data, and msg.Life Product. They also gained interest in the Benelux market and attracted new customers in the United States market. In the Spanish and Portuguese markets, msg life had positive business development with existing customers and successfully launched a project for a new customer. Additionally, they received contracts for the Unified Administration Platform in Eastern European countries and Switzerland.\n",
      "--------------------------------------------------\n",
      "What were the financial results of the msg life Group in the 2021 financial year?\n",
      "In the 2021 financial year, the msg life Group recorded gross Group revenue from its own business under German GAAP of 176.1 million euros and Group earnings before interest, taxes, depreciation and amortisation (EBITDA) under German GAAP of 17.9 million euros.\n",
      "--------------------------------------------------\n",
      "What was the turnover of the msg life Group in the 2021 financial year?\n",
      "The turnover of the msg life Group in the 2021 financial year was 193.8 million euros, which is 6.3 million euros higher than the figure for the 2020 financial year, corresponding to growth of 3.4 per cent.\n",
      "--------------------------------------------------\n",
      "What was the Group's earnings before interest, taxes, depreciation and amortisation (EBITDA) in the 2021 financial year?\n",
      "In the 2021 financial year, the Group was able to generate earnings before interest, taxes, depreciation and amortisation (EBITDA) of 17.9 million euros, which is an increase from the previous year's EBITDA of 14.7 million euros.\n",
      "--------------------------------------------------\n",
      "What were the earnings before interest, taxes, depreciation and amortisation (EBITDA) for the Group in the 2021 financial year?\n",
      "In the 2021 financial year, the Group generated earnings before interest, taxes, depreciation and amortisation (EBITDA) of 17.9 million euros.\n",
      "--------------------------------------------------\n",
      "What is the equity ratio of the Group as at 31 December 2021?\n",
      "The equity ratio of the Group as at 31 December 2021 is 57.9 percent, which represents a positive development compared to the previous year (53.0 percent). The equity amount is 57.6 million euros.\n",
      "--------------------------------------------------\n",
      "What were the key changes in the earnings position of the company in the reporting year?\n",
      "In the reporting year, current assets increased from 74.5 million euros to 92.3 million euros. This increase was mainly due to higher securities and accounts receivable. However, liquid funds decreased by 5.0 million euros. Turnover decreased by 6.5 million euros, driven by a decrease in turnover from third parties but an increase in internal turnover. The net total of inventories increased from 4.3 million euros to 7.5 million euros. Non-current assets decreased by 1.5 million euros. Expenses for the procurement of services decreased by 11.6 million euros. Personnel expenses were slightly lower. Provisions decreased by 1.8 million euros. Liabilities increased by 4.4 million euros. Other operating expenses increased by 1.5 million euros. The company received income from profit transfer agreements with msg life central europe gmbh and msg life global gmbh.\n",
      "--------------------------------------------------\n",
      "What was the net profit generated by msg life ag in the 2021 financial year?\n",
      "In the 2021 financial year, msg life ag generated a net profit under the German Commercial Code (HGB) in the amount of 10.8 million euros (previous year: 5.2 million euros).\n",
      "--------------------------------------------------\n",
      "What was the change in receivables from affiliated companies and liabilities to affiliated companies?\n",
      "Receivables from affiliated companies increased by 1.9 million euros to 3.7 million euros, while liabilities to affiliated companies decreased by 0.7 million euros to 25.7 million euros.\n",
      "--------------------------------------------------\n",
      "What is the msg life Group's approach to research and development?\n",
      "The msg life Group prefers to rely on its own research, which is built upon its participation in trade conferences, association activities, and joint projects with partner companies. They believe that future trends can be identified more reliably through systematic reviewing of customer requirements from projects and canvassing situations rather than external surveys. The Group also continuously updates the qualification level of its employees through selective ongoing training activities. In the technology sector, msg life makes use of rapidly developing standards and non-proprietary technologies, as well as maintaining close partnerships with IBM and selected colleges and universities.\n",
      "--------------------------------------------------\n",
      "What is msg life's approach to personnel growth and recruitment?\n",
      "In the context of its long-term growth strategy, msg life has been able to stabilize the number of applications at a high level in 2021. The company received approximately 3,000 applications and has converted all application and onboarding processes to digital formats. This transition has been well-received by applicants and will continue to be a benchmark even after the pandemic. Additionally, msg life supports the extra-occupational training course for actuaries at the German actuarial association Deutsche Aktuarvereinigung (DAV).\n",
      "--------------------------------------------------\n",
      "What is the significance of the Qualification Suite platform for msg life?\n",
      "In 2021, msg life digitized its range of qualification courses and developed the Qualification Suite platform. This platform serves as a modern and powerful learning management system that consolidates all training and qualification topics into a single platform. It allows the company to manage purchased training courses and its own qualification content, develop the content further, and provide it to the relevant target groups. The platform also enables the rapid availability of training content for changing target groups, which is crucial for the development of additional training formats.\n",
      "--------------------------------------------------\n",
      "What are the opportunities from regulatory developments?\n",
      "msg life regards the continuation of regulation throughout the insurance sector as a direct consequence of the financial crisis. This regulation is necessitating adaptation in the insurance sector and reinforcing the trend towards the use of standard software and cross-sector platform solutions. The situation in the insurance market is proving to be an opportunity for the company, as demonstrated by new contracts over the past few years and current sales projects.\n",
      "--------------------------------------------------\n",
      "What are the opportunities from regulatory developments?\n",
      "Regulatory adjustments as a result of legislative amendments are generating additional demand for consulting services and new or modified products among existing customers. If integrated quickly into the products on offer, these regulatory developments can constitute a crucial competitive advantage.\n",
      "--------------------------------------------------\n",
      "What are the main potential sources of risk in the operating activity of the msg life Group?\n",
      "The main potential source of risk in the operating activity of the msg life Group lies in the calculation of complex projects and in their organizational, functional, technical, and commercial handling. These risks are controlled and monitored by means of the valid Group-wide standards for project and project risk management. However, there is still a risk that projects cannot be realized profitably due to exceeding costs, missed deadlines, failure to comply with functional specifications or required quality, which may result in the need for discounts or compensation.\n",
      "--------------------------------------------------\n",
      "What are the economic risks mentioned in the text?\n",
      "The economic risks mentioned in the text include the general economic trend affecting customer behavior and investment in IT infrastructure, potential reductions in market volume, delays in portfolio growth, postponements of planned investments, and the impact of economic crises on demand. These risks could lead to restructuring costs, reductions in turnover, and postponement of planned cost reductions. The text also mentions the potential economic risks associated with the Covid-19 pandemic and the Russian invasion of Ukraine, although at the time of writing the annual financial statements, no significant impact on economic or operational development was expected.\n",
      "--------------------------------------------------\n",
      "What risks does msg life face?\n",
      "msg life faces several risks, including economic risks related to the Russian invasion of Ukraine and resulting economic sanctions, IT security risks, risks from takeovers and competition, and liquidity risks. The economic risks are difficult to judge in terms of their impact on msg life's business in 2022, but the company does not expect significant changes. To address IT security risks, msg life takes extensive technical and organizational measures such as restrictive authorization and access controls, regular backups, and penetration tests. In terms of competition risks, msg life aims to maintain its existing strategy and achieve a competitive advantage by covering entire value chains and product ranges. The company is also interested in expanding its market position through organic growth and strategic acquisitions. Liquidity risk management involves ensuring sufficient liquid funds or credit lines to meet payment obligations and hedge against payment flow fluctuations. Finally, msg life faces credit risks arising from deteriorating economic circumstances of debtors or counterparties, which can result in default on payments or a reduction in the value of financial instruments.\n",
      "--------------------------------------------------\n",
      "What are credit risks?\n",
      "Credit risks, also known as default risks, arise from deteriorating economic circumstances of a company's debtors or counterparties. These risks include the possibility of partial or complete default on contractually agreed payments and a reduction in the value of financial instruments due to a poorer credit rating.\n",
      "--------------------------------------------------\n",
      "What risks does the msg life Group face in relation to financial instruments?\n",
      "The potential risks to the msg life Group associated with financial instruments consist notably of liquidity risks, currency risks, default risks, and interest rate risks. Liquidity risks refer to the company being unable to raise the funds needed to settle its financial liabilities. Currency risks arise from activities in various currency areas. Default risks result from the non-fulfillment of contractual obligations by contracting parties. Interest rate risks are caused by movements in the market interest rate, leading to changes in the fair value of a financial instrument and interest-related cash flow risks, which affect future cash flows due to changes in market interest rates.\n",
      "--------------------------------------------------\n",
      "What are the liquidity risks faced by the msg life Group?\n",
      "Liquidity risks for the msg life Group include the risk of not having sufficient liquid funds or credit lines available to meet payment obligations and hedge against risks resulting from fluctuations in payment flows. This includes interest and redemption payments. The group manages liquidity risk by monitoring daily cash holdings and monthly financial plans. The goal is to finance predictable deficits at standard market terms and avoid borrowing capital at excessive interest rates or investing surplus funds at below-market interest rates. Currently, the msg life Group considers its liquidity risk to be low, as it has sufficient liquid funds to service its financial liabilities.\n",
      "--------------------------------------------------\n",
      "What are interest rate risks?\n",
      "Interest rate risks refer to the fluctuation in the fair value or future cash flows of a financial instrument due to changes in market interest rates.\n",
      "--------------------------------------------------\n",
      "What is msg life's internationalisation strategy and partnership with IBM?\n",
      "In connection with its ongoing internationalisation strategy, msg life and IBM have entered into a partnership to open up new insurance markets. The goal is to significantly increase the competitiveness of international insurance companies through a fully digitised end-to-end solution, thereby securing their future.\n",
      "--------------------------------------------------\n",
      "What are some of the regulatory requirements affecting insurance companies in the current financial year?\n",
      "In the current financial year, insurance companies are facing several regulatory requirements, including the revision of Solvency II, the new international accounting standard IFRS 17, the European Transparency Directive, the rollout of a digital pension overview, and the introduction of PEPP. These regulatory requirements necessitate comprehensive changes to the solutions currently used by insurers and require significant allocation of resources.\n",
      "--------------------------------------------------\n",
      "What are some important factors for larger insurance companies in the acquisition of closed insurance contract portfolios?\n",
      "For larger insurance companies, the acquisition of closed insurance contract portfolios, also known as 'run-off' portfolios, from smaller insurance companies remains an important factor. This allows the larger companies to generate positive effects for their books, while also benefiting from significant economies of scale and cost synergies. Modern asset management with powerful IT systems plays a decisive role in the efficient management of these contracts.\n",
      "--------------------------------------------------\n",
      "What is the strategic element that will continue to be implemented in 2022?\n",
      "Continuous delivery will continue to be implemented in 2022 in order to further optimize the development process with and for customers.\n",
      "--------------------------------------------------\n",
      "What are the key components of the consolidated income statement?\n",
      "The key components of the consolidated income statement include: \n",
      "1. Sales\n",
      "2. Increase or decrease in work in progress\n",
      "3. Gross income\n",
      "4. Other operating income\n",
      "5. Cost of materials\n",
      "6. Personnel expenses\n",
      "7. Depreciation, amortisation and write-downs on intangible assets and property, plant and equipment\n",
      "8. Other operating expenses\n",
      "9. Operating result/EBIT\n",
      "10. Other interest and similar income\n",
      "11. Interest and similar expenses\n",
      "12. Taxes on income\n",
      "13. Earnings after taxes\n",
      "14. Other taxes\n",
      "15. Net profit/loss for the year\n",
      "16. Loss carried forward\n",
      "17. Net loss for the year\n",
      "--------------------------------------------------\n",
      "What are the total assets as of December 31, 2021?\n",
      "The total assets as of December 31, 2021, amount to Euro 99,498,545.\n",
      "--------------------------------------------------\n",
      "What are the different types of reserves mentioned in the text?\n",
      "The different types of reserves mentioned in the text are revenue reserves, legal reserve, and other revenue reserves.\n",
      "--------------------------------------------------\n",
      "What is the msg life Group?\n",
      "The msg life Group is a leading consulting and software company for the insurance and retirement savings market. It primarily supports life insurance companies and pension fund institutions in Europe, as well as health and group insurance companies in the United States, in the design, implementation, and administration of their products.\n",
      "--------------------------------------------------\n",
      "What is the joint solution between msg life AG and msg nexinsure ag?\n",
      "msg life AG and msg nexinsure ag have been working closely together for many years in the context of the joint solution msg.Insurance Suite.\n",
      "--------------------------------------------------\n",
      "How are the asset and liability items of foreign business operations converted into euros?\n",
      "The asset and liability items of foreign business operations (with the exception of equity) are converted into euros within the scope of consolidation at the mean spot exchange rate on the respective reporting date in accordance with section 308a of the HGB.\n",
      "--------------------------------------------------\n",
      "How are advance payments received on account of orders recognized?\n",
      "Advance payments received on account of orders are recognized at their net value. The company has made use of the option provided by section 268, paragraph 5, sentence 2, of the HGB to openly deduct payments received on account of inventories from the line item ‘Inventories’ on the assets side.\n",
      "--------------------------------------------------\n",
      "What is the reporting date for the subsidiaries?\n",
      "At all of the subsidiaries, the reporting date corresponds to the Group’s reporting date.\n",
      "--------------------------------------------------\n",
      "What is the total subscribed capital as of December 31, 2021?\n",
      "The total subscribed capital as of December 31, 2021 is 42,802,453.00 euros and it is fully paid in.\n",
      "--------------------------------------------------\n",
      "What is the subscribed capital of the company and how is it divided?\n",
      "The subscribed capital of the company is divided into 42,802,453 no-par-value bearer shares, each representing a computational equity stake of 1 euro.\n",
      "--------------------------------------------------\n",
      "What is the status of dividends for the 2021 financial year?\n",
      "No dividend is anticipated for the 2021 financial year.\n",
      "--------------------------------------------------\n",
      "What is the difference in liability recognized in the statement of financial position?\n",
      "The difference in liability recognized in the statement of financial position is 6.915 million euros, compared to the previous year's 6.439 million euros.\n",
      "--------------------------------------------------\n",
      "What are the obligations when interest is calculated at the average market interest rate for the past seven years and ten years?\n",
      "The obligations when interest is calculated at the average market interest rate for the past seven years are as follows: msg life ag - 1,597 thousand euros, msg life central europe - 6,623 thousand euros, msg life Switzerland - 3,596 thousand euros, and total - 11,816 thousand euros. The obligations when interest is calculated at the average market interest rate for the past ten years are as follows: msg life ag - 1,523 thousand euros, msg life central europe - 6,164 thousand euros, msg life Switzerland - 3,393 thousand euros, and total - 11,080 thousand euros.\n",
      "--------------------------------------------------\n",
      "What are the liabilities to affiliated companies?\n",
      "Liabilities to affiliated companies amount to 7,502 thousand euros. For more details on the composition of these liabilities, please refer to section VII 'Related parties', number 3 'Other transactions with related parties'.\n",
      "--------------------------------------------------\n",
      "What are the other financial obligations mentioned in the text?\n",
      "The other financial obligations mentioned in the text amount to 43.612 million euros in total. These obligations include leases for operating and office equipment, tenancy agreements for office space, and service contracts for hardware and software maintenance.\n",
      "--------------------------------------------------\n",
      "What are the sales figures for the Group broken down by field of activity and geographical market?\n",
      "The sales figures for the Group, broken down by field of activity and geographical market, are as follows:\n",
      "\n",
      "Field of Activity:\n",
      "- Services: 2021 - 150,158 thousand euros, 2020 - 141,661 thousand euros\n",
      "- Maintenance: 2021 - 23,617 thousand euros, 2020 - 20,996 thousand euros\n",
      "- Licences: 2021 - 14,145 thousand euros, 2020 - 18,727 thousand euros\n",
      "- Other income: 2021 - 5,888 thousand euros, 2020 - 6,086 thousand euros\n",
      "\n",
      "Geographical Market:\n",
      "- Germany: 2021 - 172,160 thousand euros, 2020 - 159,267 thousand euros\n",
      "- United States: 2021 - 17,666 thousand euros, 2020 - 23,729 thousand euros\n",
      "- Slovenia: 2021 - 1,702 thousand euros, 2020 - 2,147 thousand euros\n",
      "- Switzerland: 2021 - 1,248 thousand euros, 2020 - 1,306 thousand euros\n",
      "- Portugal and Spain: 2021 - 783 thousand euros, 2020 - 631 thousand euros\n",
      "- Austria: 2021 - 177 thousand euros, 2020 - 318 thousand euros\n",
      "- Benelux: 2021 - 72 thousand euros, 2020 - 72 thousand euros\n",
      "\n",
      "Total Group turnover: 2021 - 193,808 thousand euros, 2020 - 187,470 thousand euros.\n",
      "--------------------------------------------------\n",
      "What are the pension expenses primarily comprised of?\n",
      "Pension expenses primarily comprise the allocations to pension provisions.\n",
      "--------------------------------------------------\n",
      "What were the main non-cash effects in the cash flow from operating activities?\n",
      "The main non-cash effects in the cash flow from operating activities were depreciation of property, plant and equipment and intangible assets amounting to 2.809 million euros (previous year: 3.497 million euros) as well as the increase and decrease in provisions of -2.271 million euros (previous year: 5.405 million euros).\n",
      "--------------------------------------------------\n",
      "What was the remuneration for former members of the Management Board in 2021?\n",
      "The remuneration for former members of the Management Board in 2021 amounted to 131,000 euros (previous year: 122,000 euros).\n",
      "--------------------------------------------------\n",
      "Who were the members of the Supervisory Board in the reporting period?\n",
      "The members of the Supervisory Board in the reporting period were Dr Christian Hofer (Chairman), Klaus Kuhnle (Deputy Chairman), Johann Zehetmaier, Dr Thomas Noth, Dr Martin Strobel, and Dr Jürgen Zehetmaier.\n",
      "--------------------------------------------------\n",
      "What does the 'Consolidated statement of changes in fixed assets' show?\n",
      "The 'Consolidated statement of changes in fixed assets' shows the historical costs of acquisition and production, accumulated depreciation/amortisation, and net carrying amounts of fixed assets for a specific period.\n",
      "--------------------------------------------------\n",
      "What are the differences in currency as of 31 December 2021 compared to 1 January 2021?\n",
      "As of 31 December 2021, the currency differences compared to 1 January 2021 are as follows:\n",
      "- Intangible assets: Franchises, trademarks, patents, licenses, and similar rights remained the same at 8,591 thousand euros. Goodwill increased from 31,683 thousand euros to 40,274 thousand euros.\n",
      "- Property, plant, and equipment: Land, leasehold rights, and buildings increased from 4,988 thousand euros to 5,034 thousand euros. Other fixtures and fittings, tools, and equipment increased from 15,177 thousand euros to 16,310 thousand euros. Advance payments and plant and machinery in the process of construction increased from 86 thousand euros to 20,251 thousand euros.\n",
      "- Financial assets: Investments remained the same at 3 thousand euros.\n",
      "- Total assets increased from 60,528 thousand euros to 61,643 thousand euros.\n",
      "--------------------------------------------------\n",
      "What does the 'Consolidated statement of changes in fixed assets for the period' show?\n",
      "The 'Consolidated statement of changes in fixed assets for the period' shows the historical costs of acquisition and production, accumulated depreciation/amortisation, and net carrying amounts of fixed assets. It provides information on additions, reclassifications, disposals, disposals in the consolidation group, and foreign currency differences for the period from 1 January 2020 to 31 December 2020.\n",
      "--------------------------------------------------\n",
      "What did the independent auditor's report state about the consolidated financial statements of msg life ag?\n",
      "The independent auditor's report stated that the consolidated financial statements of msg life ag comply with the requirements of German commercial law and give a true and fair view of the assets and financial position of the Group as at 31 December 2021 and its earnings position for the financial year from 1 January 2021 to 31 December 2021.\n",
      "--------------------------------------------------\n",
      "What is the responsibility of the legal representatives and Supervisory Board for the consolidated financial statements, condensed management report, and Group management report?\n",
      "The legal representatives are responsible for the preparation of the consolidated financial statements that comply, in all material respects, with German GAAP, and that the consolidated financial statements, in compliance with these requirements, give a true and fair view of the assets, financial and earnings position of the Group. In addition, the legal representatives are responsible for such internal controls as they have deemed necessary in line with German GAAP to enable the preparation of consolidated financial statements that are free from material misstatement, whether due to fraud or error.\n",
      "--------------------------------------------------\n",
      "What is the responsibility of the legal representatives in preparing the consolidated financial statements?\n",
      "The legal representatives are responsible for assessing the Group's ability to continue as a going concern and disclosing matters related to going concern. They are also responsible for financial reporting based on the going concern basis of accounting, unless there is an intention to liquidate the company or to cease operations, or there is no realistic alternative but to do so.\n",
      "--------------------------------------------------\n",
      "What is the responsibility of the legal representatives in preparing the management report and Group management report?\n",
      "The legal representatives are responsible for the preparation of the condensed management report and Group management report. These reports should provide an appropriate view of the Group's position, be consistent with the consolidated financial statements, comply with German legal requirements, and appropriately present the opportunities and risks of future development. The legal representatives are also responsible for taking necessary precautions and measures to enable the preparation of these reports in accordance with German legal requirements and to provide sufficient appropriate evidence for the assertions made in the reports.\n",
      "--------------------------------------------------\n",
      "What are some of the key areas that the auditors evaluate in the audit process?\n",
      "The auditors evaluate the appropriateness of accounting policies used by the legal representatives, the reasonableness of estimates made by the legal representatives and related disclosures. They also conclude on the appropriateness of the legal representatives' use of the going concern basis of accounting and assess whether a material uncertainty exists related to events or conditions that may cast significant doubt on the Group's ability to continue as a going concern. Additionally, the auditors evaluate the overall presentation, structure, and content of the consolidated financial statements, including the disclosures, to ensure compliance with German GAAP. They obtain sufficient appropriate audit evidence regarding the financial information of the entities or business activities within the Group. The auditors also evaluate the consistency of the condensed management report and Group management report with the consolidated financial statements and perform audit procedures on the prospective disclosures presented by the legal representatives. Finally, the auditors communicate with the persons in charge of the audit regarding the planned scope and timing of the audit and significant audit findings, including any significant deficiencies in the internal control system that they identify during the audit.\n",
      "--------------------------------------------------\n",
      "What is the contact information for msg life ag?\n",
      "The contact information for msg life ag is as follows: Address: 70771 Leinfelden-Echterdingen, Germany. Phone: +49 711 94958 -0. Fax: +49 711 94958 -49. Email: info@msg-life.com. Website: www.msg-life.com.\n",
      "--------------------------------------------------\n"
     ]
    }
   ],
   "source": [
    "pprint(res)"
   ]
  },
  {
   "cell_type": "code",
   "execution_count": null,
   "id": "eec70e59-a9f5-4302-818c-755da9289b7f",
   "metadata": {},
   "outputs": [],
   "source": []
  },
  {
   "cell_type": "code",
   "execution_count": null,
   "id": "54e5eb66-6c64-44b8-8056-36a5ee4aec40",
   "metadata": {},
   "outputs": [],
   "source": [
    "from langchain.chains import QAGenerationChain\n",
    "from commons import QA_PROMPT_SELECTOR\n",
    "\n",
    "eval_set = []\n",
    "qa_chain = QAGenerationChain.from_llm(hp.retrieval_llm, prompt=QA_PROMPT_SELECTOR.get_prompt(hp.retrieval_llm))\n",
    "\n",
    "await get_qa_from_chunk(chunks[7], qa_chain, eval_set)"
   ]
  },
  {
   "cell_type": "code",
   "execution_count": null,
   "id": "780eeaf9-7a62-46d6-ab9b-be556ac87fd5",
   "metadata": {},
   "outputs": [],
   "source": [
    "eval_set"
   ]
  },
  {
   "cell_type": "code",
   "execution_count": null,
   "id": "8590ade7-454b-4695-a59b-ebc72f33b241",
   "metadata": {},
   "outputs": [],
   "source": []
  },
  {
   "cell_type": "code",
   "execution_count": null,
   "id": "73107f61-58c2-4134-8556-9b11f925f7aa",
   "metadata": {},
   "outputs": [],
   "source": [
    "eval_set1 = []\n",
    "qa_chain = QAGenerationChain.from_llm(hp.retrieval_llm)\n",
    "\n",
    "await get_qa_from_chunk(chunks[7], qa_chain, eval_set1)"
   ]
  },
  {
   "cell_type": "code",
   "execution_count": null,
   "id": "cfc8a626-1845-41a3-92c8-21cd0aabdfe4",
   "metadata": {},
   "outputs": [],
   "source": [
    "pprint(eval_set1)"
   ]
  },
  {
   "cell_type": "code",
   "execution_count": null,
   "id": "44c10d30-877b-4dca-91da-21c165db58bc",
   "metadata": {},
   "outputs": [],
   "source": []
  },
  {
   "cell_type": "code",
   "execution_count": null,
   "id": "932cc2d2-f788-4e62-858f-a7c9865871d7",
   "metadata": {},
   "outputs": [],
   "source": []
  },
  {
   "cell_type": "code",
   "execution_count": null,
   "id": "14e29e91-1e44-4501-a256-f258f20ce209",
   "metadata": {},
   "outputs": [],
   "source": []
  },
  {
   "cell_type": "code",
   "execution_count": 10,
   "id": "b22b2c00-b6d0-4ed4-9bc0-6a25e83a7108",
   "metadata": {},
   "outputs": [],
   "source": [
    "def pprint(eval):\n",
    "    for qa in eval:\n",
    "        print(qa[\"question\"])\n",
    "        print(qa[\"answer\"])\n",
    "        print(\"-\"*50)"
   ]
  },
  {
   "cell_type": "code",
   "execution_count": null,
   "id": "a0f1318a-77de-44c1-b90a-a625dd2b4117",
   "metadata": {},
   "outputs": [],
   "source": []
  },
  {
   "cell_type": "code",
   "execution_count": null,
   "id": "0ef2a43e-8d2e-4010-8068-e869f6a26cd1",
   "metadata": {},
   "outputs": [],
   "source": [
    "for qa in gt_dataset:\n",
    "    if len(qa['answer'])>200:\n",
    "        print(qa[\"question\"])\n",
    "        print(f\"-> {qa['answer']}\")\n",
    "        print(\"-\"*50)"
   ]
  },
  {
   "cell_type": "code",
   "execution_count": null,
   "id": "d4f28386-5340-4362-a6b5-bbb49da6f8a8",
   "metadata": {},
   "outputs": [],
   "source": []
  },
  {
   "cell_type": "code",
   "execution_count": null,
   "id": "4fed3c9f-72c6-4c0b-bb38-6d0d1e18ae77",
   "metadata": {},
   "outputs": [],
   "source": []
  },
  {
   "cell_type": "code",
   "execution_count": null,
   "id": "300a2662-31be-4177-9074-031a0360c1b1",
   "metadata": {},
   "outputs": [],
   "source": []
  },
  {
   "cell_type": "code",
   "execution_count": null,
   "id": "0026a487-2faf-4f2c-92bf-fa2d223c13f7",
   "metadata": {},
   "outputs": [],
   "source": []
  },
  {
   "cell_type": "code",
   "execution_count": null,
   "id": "cd960e1e-c8ad-4717-a0af-6c7e3161dc69",
   "metadata": {},
   "outputs": [],
   "source": []
  },
  {
   "cell_type": "code",
   "execution_count": null,
   "id": "426f0f5c-6c02-46f5-83a8-314f8b6ad8c9",
   "metadata": {},
   "outputs": [],
   "source": []
  },
  {
   "cell_type": "code",
   "execution_count": null,
   "id": "a90581f7-84ad-452a-8207-07ea2b4c9567",
   "metadata": {},
   "outputs": [],
   "source": []
  },
  {
   "cell_type": "markdown",
   "id": "dffded25-d199-494c-9551-aa3cd15ec38b",
   "metadata": {},
   "source": [
    "# Set up vectorstore and retriever"
   ]
  },
  {
   "cell_type": "code",
   "execution_count": null,
   "id": "ff01af81-cbe7-48a1-a789-2d5d97df5b10",
   "metadata": {},
   "outputs": [],
   "source": []
  },
  {
   "cell_type": "code",
   "execution_count": null,
   "id": "11c0ca75-0ba1-4b9b-b4b8-503a156e320b",
   "metadata": {},
   "outputs": [],
   "source": [
    "from langchain.embeddings import OpenAIEmbeddings\n",
    "from eval_backend.utils import get_retriever\n",
    "\n",
    "llm = ChatOpenAI(temperature=0, model=\"gpt-3.5-turbo\")\n",
    "chunks_vs = split_data(data=data, chunk_size=512)\n",
    "retriever = get_retriever(chunks_vs, OpenAIEmbeddings(model=\"text-embedding-ada-002\"), 3)"
   ]
  },
  {
   "cell_type": "code",
   "execution_count": null,
   "id": "1ef61adc-9ac3-4b8e-9a79-44d1a8955a0d",
   "metadata": {},
   "outputs": [],
   "source": []
  },
  {
   "cell_type": "markdown",
   "id": "025a103f-9c06-4866-ae87-aa8f2ac86058",
   "metadata": {},
   "source": [
    "# LLM chain for query answering based on document chunks"
   ]
  },
  {
   "cell_type": "code",
   "execution_count": null,
   "id": "30f9a0fb-899c-4a9f-bbbf-ea4d842b9c56",
   "metadata": {},
   "outputs": [],
   "source": [
    "from eval_backend.utils import get_qa_llm\n",
    "qa_llm = get_qa_llm(retriever)#, retrieval_llm=ChatOpenAI(temperature=0, model=\"gpt-4\"))\n",
    "\n",
    "await qa_llm.acall(\"hi\")"
   ]
  },
  {
   "cell_type": "code",
   "execution_count": null,
   "id": "b7561288-a52e-4d27-be01-882bed8a260f",
   "metadata": {},
   "outputs": [],
   "source": [
    "await qa_llm.acall(gt_dataset[0])"
   ]
  },
  {
   "cell_type": "markdown",
   "id": "91ac142f-b2a8-4796-ba06-c6d1ff31bf3a",
   "metadata": {},
   "source": [
    "# QA_LLM grading functions"
   ]
  },
  {
   "cell_type": "code",
   "execution_count": null,
   "id": "1a486ab7-611b-4078-90f8-434e08c41a92",
   "metadata": {},
   "outputs": [],
   "source": [
    "from eval_backend.eval_metrics import grade_model_answer"
   ]
  },
  {
   "cell_type": "code",
   "execution_count": null,
   "id": "f76dcbf2-0eed-4a82-a444-088da48e458e",
   "metadata": {},
   "outputs": [],
   "source": []
  },
  {
   "cell_type": "code",
   "execution_count": null,
   "id": "54ff8d04-8b20-4878-9138-a30362f837d4",
   "metadata": {},
   "outputs": [],
   "source": [
    "gt_dataset[10]"
   ]
  },
  {
   "cell_type": "code",
   "execution_count": null,
   "id": "04e3cb4e-09e3-4edc-b847-3e9685b8dbf7",
   "metadata": {},
   "outputs": [],
   "source": [
    "qa_llm_answer = qa_llm(gt_dataset[10][\"question\"])\n",
    "qa_llm_answer"
   ]
  },
  {
   "cell_type": "code",
   "execution_count": null,
   "id": "51d8646e-d3cc-4f80-bd03-f08c56cf899f",
   "metadata": {},
   "outputs": [],
   "source": [
    "res = grade_model_answer([gt_dataset[10], gt_dataset[10]],\n",
    "                   [qa_llm_answer, qa_llm_answer],\n",
    "                   grade_answer_prompt=\"GPT4\")"
   ]
  },
  {
   "cell_type": "code",
   "execution_count": null,
   "id": "ee16758f-262b-4e0c-8bb1-2d7cbe198e9e",
   "metadata": {},
   "outputs": [],
   "source": []
  },
  {
   "cell_type": "code",
   "execution_count": null,
   "id": "79895031-2621-4ab4-a8a9-52fd794adef1",
   "metadata": {},
   "outputs": [],
   "source": [
    "res"
   ]
  },
  {
   "cell_type": "code",
   "execution_count": null,
   "id": "1e72c6bf-a754-4d8d-a932-99ade64199a3",
   "metadata": {},
   "outputs": [],
   "source": []
  },
  {
   "cell_type": "code",
   "execution_count": null,
   "id": "bbcd5f08-5a4d-440d-aef6-1c6d0f70a1c0",
   "metadata": {},
   "outputs": [],
   "source": [
    "# test for incorrect answer\n",
    "qa_predicted = qa_llm(\"What is the Life Factory?\")\n",
    "qa_predicted[\"question\"] = gt_dataset[0][\"question\"]"
   ]
  },
  {
   "cell_type": "code",
   "execution_count": null,
   "id": "d3c2246a-ad52-43b5-b04a-1766bf11e9a3",
   "metadata": {},
   "outputs": [],
   "source": [
    "qa_predicted"
   ]
  },
  {
   "cell_type": "code",
   "execution_count": null,
   "id": "3dd31d69-bad6-42ec-8a1f-ba6ee48732b8",
   "metadata": {},
   "outputs": [],
   "source": [
    "grade_model_answer([gt_dataset[0]],\n",
    "                   [qa_predicted],\n",
    "                   grade_answer_prompt=\"GPT4\")"
   ]
  },
  {
   "cell_type": "code",
   "execution_count": null,
   "id": "ed1987b3-5e8b-4eac-bec8-7bcb172488e0",
   "metadata": {},
   "outputs": [],
   "source": []
  },
  {
   "cell_type": "code",
   "execution_count": null,
   "id": "862a272a-8f22-41a8-b2c6-e52b03355872",
   "metadata": {},
   "outputs": [],
   "source": []
  },
  {
   "cell_type": "markdown",
   "id": "cad5ddee-cd16-4702-9013-1dc9918127c2",
   "metadata": {},
   "source": [
    "# Calculate quality of retrieved documents"
   ]
  },
  {
   "cell_type": "code",
   "execution_count": null,
   "id": "25f884e9-77c8-43d6-befb-6378a4accd93",
   "metadata": {},
   "outputs": [],
   "source": [
    "from eval_backend.eval_metrics import grade_model_retrieval\n",
    "\n",
    "qa_pair_index = 10\n",
    "query = gt_dataset[qa_pair_index][\"question\"]\n",
    "docs_retrieved = retriever.get_relevant_documents(gt_dataset[10][\"question\"])\n",
    "\n",
    "retrieved_doc_text = \"\\n\\n\".join(f\"Retrieved document {i}: {doc.page_content}\" for i, doc in enumerate(docs_retrieved))\n",
    "\n",
    "retrieved_dict = {\"question\": gt_dataset[qa_pair_index][\"question\"],\n",
    "             \"answer\": gt_dataset[qa_pair_index][\"answer\"], \"result\": retrieved_doc_text}\n",
    "\n",
    "grade_model_retrieval([gt_dataset[qa_pair_index],gt_dataset[qa_pair_index]],\n",
    "                      [retrieved_dict,retrieved_dict],\n",
    "                      grade_docs_prompt=\"x\")"
   ]
  },
  {
   "cell_type": "code",
   "execution_count": null,
   "id": "030b7eaa-44a2-45c7-b608-163cd8e8ec28",
   "metadata": {},
   "outputs": [],
   "source": [
    "gt_dataset[qa_pair_index]"
   ]
  },
  {
   "cell_type": "code",
   "execution_count": null,
   "id": "42739318-f34c-4410-b51a-902c4915036c",
   "metadata": {},
   "outputs": [],
   "source": []
  },
  {
   "cell_type": "code",
   "execution_count": null,
   "id": "e687bfc8-9186-4802-90ca-4fb28a58602f",
   "metadata": {},
   "outputs": [],
   "source": []
  },
  {
   "cell_type": "markdown",
   "id": "578ecd4a-dc18-429a-85ad-74d4f8b37b5a",
   "metadata": {},
   "source": [
    "# Calculate Embedding similarities"
   ]
  },
  {
   "cell_type": "code",
   "execution_count": null,
   "id": "444a9e48-2278-4324-b01d-94d8bd1ebf9c",
   "metadata": {},
   "outputs": [],
   "source": [
    "def grade_embedding_similarity(gt_dataset: List[Dict[str,str]], predictions: List[str],\n",
    "                                retriever: VectorStoreRetriever, embedding_model: Embeddings) -> List[float]:\n",
    "\n",
    "    m=len(gt_dataset)\n",
    "\n",
    "    target_embeddings = np.array(embedding_model.embed_documents([qa_pair[\"answer\"] for qa_pair in gt_dataset])).reshape(m, -1)\n",
    "    predicted_embeddings = np.array(embedding_model.embed_documents(predictions)).reshape(m, -1)\n",
    "\n",
    "    # similarities between openai embeddings ranges from 0.7 - 1.0 only\n",
    "    similarities = target_embeddings @ predicted_embeddings.T\n",
    "\n",
    "    return np.diag(similarities)"
   ]
  },
  {
   "cell_type": "code",
   "execution_count": null,
   "id": "c2d0d2f4-671b-4fcd-8cef-0fc0c71a5af0",
   "metadata": {},
   "outputs": [],
   "source": [
    "grade_embedding_similarity([gt_dataset[0], gt_dataset[0]],\n",
    "                            [qa_llm.run(gt_dataset[0][\"question\"]), qa_llm.run(gt_dataset[15][\"question\"])],\n",
    "                            retriever=retriever,\n",
    "                            embedding_model=OpenAIEmbeddings(model=\"text-embedding-ada-002\"))"
   ]
  },
  {
   "cell_type": "code",
   "execution_count": null,
   "id": "2fa625c8-74a0-4892-86e0-14a90967dc70",
   "metadata": {},
   "outputs": [],
   "source": []
  },
  {
   "cell_type": "code",
   "execution_count": null,
   "id": "582e6645-1508-4474-96c4-2a301c90e6c0",
   "metadata": {},
   "outputs": [],
   "source": [
    "true_answer = gt_dataset[0][\"answer\"]\n",
    "pred_answer = qa_llm.run(gt_dataset[0][\"question\"])\n",
    "\n",
    "true_answer, pred_answer"
   ]
  },
  {
   "cell_type": "code",
   "execution_count": null,
   "id": "1eeba613-fd3c-4188-ac2f-67cf6ad26086",
   "metadata": {},
   "outputs": [],
   "source": [
    "import evaluate\n",
    "\n",
    "rouge_metric = evaluate.load(\"rouge\")\n",
    "\n",
    "rouge_metric.compute(references=[true_answer], predictions=[pred_answer])"
   ]
  },
  {
   "cell_type": "code",
   "execution_count": null,
   "id": "2afd58b2-0a3c-44a3-ac0e-369980fbc088",
   "metadata": {},
   "outputs": [],
   "source": []
  },
  {
   "cell_type": "code",
   "execution_count": null,
   "id": "dcafc13e-c809-4ab2-86a8-0a1a07b06207",
   "metadata": {},
   "outputs": [],
   "source": []
  },
  {
   "cell_type": "code",
   "execution_count": null,
   "id": "107f1d1c-4f32-4ad2-a8e5-215fbfdd9809",
   "metadata": {},
   "outputs": [],
   "source": [
    "predictions = [\"my cat ate the cake\"]\n",
    "references = [\"my dog wants the cake too\"]\n",
    "results = rouge_metric.compute(predictions=predictions, references=references)\n",
    "print(results)"
   ]
  },
  {
   "cell_type": "code",
   "execution_count": null,
   "id": "754991b5-6303-4f94-8efe-346fdf6d0ede",
   "metadata": {},
   "outputs": [],
   "source": [
    "2 * (3/6 * 3/5) / (3/6 + 3/5), 2 * (1/5 * 1/4) / (1/5 + 1/4), "
   ]
  },
  {
   "cell_type": "code",
   "execution_count": null,
   "id": "150c57a5-38e9-4b77-a45f-c1c71c53b17a",
   "metadata": {},
   "outputs": [],
   "source": []
  },
  {
   "cell_type": "code",
   "execution_count": null,
   "id": "031b0a19-4305-4af2-bbcd-d35153910c91",
   "metadata": {},
   "outputs": [],
   "source": []
  },
  {
   "cell_type": "code",
   "execution_count": null,
   "id": "7935cebc-80f8-4abc-b02a-67ffb4e9f91f",
   "metadata": {},
   "outputs": [],
   "source": [
    "import os\n",
    "\n",
    "os.path.exists(\"../resources/eval_data.json\")"
   ]
  },
  {
   "cell_type": "code",
   "execution_count": null,
   "id": "bc45d35e-dabf-493a-809a-99bcf053d786",
   "metadata": {},
   "outputs": [],
   "source": []
  },
  {
   "cell_type": "code",
   "execution_count": null,
   "id": "e08b38e3-94fc-40ed-a9d3-088c390bd422",
   "metadata": {},
   "outputs": [],
   "source": []
  }
 ],
 "metadata": {
  "kernelspec": {
   "display_name": "Python 3 (ipykernel)",
   "language": "python",
   "name": "python3"
  },
  "language_info": {
   "codemirror_mode": {
    "name": "ipython",
    "version": 3
   },
   "file_extension": ".py",
   "mimetype": "text/x-python",
   "name": "python",
   "nbconvert_exporter": "python",
   "pygments_lexer": "ipython3",
   "version": "3.11.5"
  }
 },
 "nbformat": 4,
 "nbformat_minor": 5
}
