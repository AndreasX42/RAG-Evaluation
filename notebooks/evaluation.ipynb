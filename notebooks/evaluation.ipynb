{
 "cells": [
  {
   "cell_type": "code",
   "execution_count": 1,
   "id": "a3f077f9-cb9d-4b61-b3a9-72bcb2fd57c0",
   "metadata": {},
   "outputs": [],
   "source": [
    "import warnings\n",
    "warnings.filterwarnings('ignore')\n",
    "\n",
    "import dotenv\n",
    "dotenv.load_dotenv(dotenv.find_dotenv(), override=True)\n",
    "\n",
    "import numpy as np\n",
    "\n",
    "from typing import Any, Dict, List, Optional, Callable\n",
    "\n",
    "from langchain.docstore.document import Document\n",
    "from langchain.schema.language_model import BaseLanguageModel\n",
    "from langchain.chat_models import ChatOpenAI\n",
    "from langchain.embeddings import OpenAIEmbeddings\n",
    "\n",
    "import os\n",
    "import sys\n",
    "from pathlib import Path\n",
    "\n",
    "sys.path.append(\"../eval_backend/\")\n",
    "sys.path.append(\"../\")\n",
    "sys.path.append(Path.cwd())\n",
    "\n",
    "import json\n",
    "with open(\"../resources/eval_data.json\", \"r\", encoding=\"utf-8\") as file:\n",
    "    # Load existing data into a list\n",
    "    gt_dataset = json.load(file)"
   ]
  },
  {
   "cell_type": "markdown",
   "id": "5bc0d927-ecba-41fc-8378-35de3fab0d55",
   "metadata": {},
   "source": [
    "# load and split data into chunks"
   ]
  },
  {
   "cell_type": "code",
   "execution_count": 3,
   "id": "c1b9c062-57f2-4bca-bf89-1b039a1293fc",
   "metadata": {},
   "outputs": [
    {
     "name": "stdout",
     "output_type": "stream",
     "text": [
      "number of tokens in document: 16634\n",
      "number of chunks: 37\n",
      "average number of tokens per chunk: 449.56756756756755\n"
     ]
    }
   ],
   "source": [
    "from backend.utils import load_and_chunk_doc, get_qa_llm, get_retriever\n",
    "from backend.commons.configurations import Hyperparameters\n",
    "import glob\n",
    "\n",
    "hp_dict = {\n",
    "        \"id\": 0,\n",
    "        \"chunk_size\": 512,\n",
    "        \"chunk_overlap\": 10,\n",
    "        \"num_retrieved_docs\": 3,\n",
    "        \"use_llm_grader\": False,\n",
    "        \"search_type\": \"mmr\",\n",
    "        \"length_function_name\": \"text-embedding-ada-002\",\n",
    "        \"grade_answer_prompt\": \"few_shot\",\n",
    "        \"grade_docs_prompt\": \"default\",\n",
    "        \"embedding_model\": \"text-embedding-ada-002\",\n",
    "        \"retrieval_llm\": \"gpt-3.5-turbo\",\n",
    "        \"grader_llm\": \"gpt-3.5-turbo\"\n",
    "    }\n",
    "\n",
    "hp = Hyperparameters.from_dict(hp_dict)\n",
    "\n",
    "\n",
    "llm = ChatOpenAI(temperature=0, model=\"gpt-3.5-turbo\")\n",
    "emb = OpenAIEmbeddings()\n",
    "\n",
    "chunks = load_and_chunk_doc(hp, glob.glob(\"../resources/document_store/*.pdf\")[1])\n",
    "retriever = get_retriever(chunks,emb,3)\n",
    "qa_llm = get_qa_llm(retriever, llm)\n",
    "\n",
    "print(f\"number of tokens in document: {sum([llm.get_num_tokens(chunk.page_content) for chunk in chunks])}\\\n",
    "\\nnumber of chunks: {len(chunks)}\\\n",
    "\\naverage number of tokens per chunk: {np.average([llm.get_num_tokens(chunk.page_content) for chunk in chunks])}\")"
   ]
  },
  {
   "cell_type": "code",
   "execution_count": 111,
   "id": "05e47241-cf50-4683-9180-d5de882eb145",
   "metadata": {},
   "outputs": [
    {
     "data": {
      "text/html": [
       "<div>\n",
       "<style scoped>\n",
       "    .dataframe tbody tr th:only-of-type {\n",
       "        vertical-align: middle;\n",
       "    }\n",
       "\n",
       "    .dataframe tbody tr th {\n",
       "        vertical-align: top;\n",
       "    }\n",
       "\n",
       "    .dataframe thead th {\n",
       "        text-align: right;\n",
       "    }\n",
       "</style>\n",
       "<table border=\"1\" class=\"dataframe\">\n",
       "  <thead>\n",
       "    <tr style=\"text-align: right;\">\n",
       "      <th></th>\n",
       "      <th>Unnamed: 0</th>\n",
       "      <th>predicted_answer</th>\n",
       "      <th>source_documents</th>\n",
       "      <th>hp_id</th>\n",
       "      <th>source</th>\n",
       "      <th>qa_id</th>\n",
       "      <th>predicted_answer.1</th>\n",
       "      <th>source_documents.1</th>\n",
       "      <th>hp_id.1</th>\n",
       "      <th>source.1</th>\n",
       "      <th>qa_id.1</th>\n",
       "    </tr>\n",
       "  </thead>\n",
       "  <tbody>\n",
       "    <tr>\n",
       "      <th>0</th>\n",
       "      <td>0</td>\n",
       "      <td>The Supervisory Board met five times in the 20...</td>\n",
       "      <td>Retrieved document 0: ACTIVITIES OF THE SUPERV...</td>\n",
       "      <td>0.0</td>\n",
       "      <td>NaN</td>\n",
       "      <td>NaN</td>\n",
       "      <td>The Supervisory Board met five times in the 20...</td>\n",
       "      <td>Retrieved document 0: ACTIVITIES OF THE SUPERV...</td>\n",
       "      <td>1.0</td>\n",
       "      <td>NaN</td>\n",
       "      <td>NaN</td>\n",
       "    </tr>\n",
       "    <tr>\n",
       "      <th>1</th>\n",
       "      <td>1</td>\n",
       "      <td>The Supervisory Board received detailed report...</td>\n",
       "      <td>Retrieved document 0: The Supervisory Board re...</td>\n",
       "      <td>0.0</td>\n",
       "      <td>NaN</td>\n",
       "      <td>NaN</td>\n",
       "      <td>The Supervisory Board received detailed report...</td>\n",
       "      <td>Retrieved document 0: The Supervisory Board re...</td>\n",
       "      <td>1.0</td>\n",
       "      <td>NaN</td>\n",
       "      <td>NaN</td>\n",
       "    </tr>\n",
       "    <tr>\n",
       "      <th>2</th>\n",
       "      <td>0</td>\n",
       "      <td>NaN</td>\n",
       "      <td>NaN</td>\n",
       "      <td>NaN</td>\n",
       "      <td>./resources/document_store\\msg_life-gb-2021-EN...</td>\n",
       "      <td>7610ff41-1e9d-4bca-8ac5-557dcf3ca98c</td>\n",
       "      <td>NaN</td>\n",
       "      <td>NaN</td>\n",
       "      <td>NaN</td>\n",
       "      <td>./resources/document_store\\msg_life-gb-2021-EN...</td>\n",
       "      <td>7610ff41-1e9d-4bca-8ac5-557dcf3ca98c</td>\n",
       "    </tr>\n",
       "    <tr>\n",
       "      <th>3</th>\n",
       "      <td>1</td>\n",
       "      <td>NaN</td>\n",
       "      <td>NaN</td>\n",
       "      <td>NaN</td>\n",
       "      <td>./resources/document_store\\msg_life-gb-2021-EN...</td>\n",
       "      <td>e2a435ce-2332-4077-82fb-9489cd9b7979</td>\n",
       "      <td>NaN</td>\n",
       "      <td>NaN</td>\n",
       "      <td>NaN</td>\n",
       "      <td>./resources/document_store\\msg_life-gb-2021-EN...</td>\n",
       "      <td>e2a435ce-2332-4077-82fb-9489cd9b7979</td>\n",
       "    </tr>\n",
       "  </tbody>\n",
       "</table>\n",
       "</div>"
      ],
      "text/plain": [
       "   Unnamed: 0  ...                               qa_id.1\n",
       "0           0  ...                                   NaN\n",
       "1           1  ...                                   NaN\n",
       "2           0  ...  7610ff41-1e9d-4bca-8ac5-557dcf3ca98c\n",
       "3           1  ...  e2a435ce-2332-4077-82fb-9489cd9b7979\n",
       "\n",
       "[4 rows x 11 columns]"
      ]
     },
     "execution_count": 111,
     "metadata": {},
     "output_type": "execute_result"
    }
   ],
   "source": [
    "x = pd.read_csv(\"../x.csv\", index_col=False)\n",
    "x"
   ]
  },
  {
   "cell_type": "code",
   "execution_count": 122,
   "id": "811b23e7-89bc-4973-b133-894fe6b261ac",
   "metadata": {},
   "outputs": [],
   "source": [
    "df = pd.read_csv(\"../resources/hp_runs_data.csv\")"
   ]
  },
  {
   "cell_type": "code",
   "execution_count": 124,
   "id": "533b7720-7084-4b9a-984c-e34409266acc",
   "metadata": {},
   "outputs": [
    {
     "data": {
      "text/html": [
       "<div>\n",
       "<style scoped>\n",
       "    .dataframe tbody tr th:only-of-type {\n",
       "        vertical-align: middle;\n",
       "    }\n",
       "\n",
       "    .dataframe tbody tr th {\n",
       "        vertical-align: top;\n",
       "    }\n",
       "\n",
       "    .dataframe thead th {\n",
       "        text-align: right;\n",
       "    }\n",
       "</style>\n",
       "<table border=\"1\" class=\"dataframe\">\n",
       "  <thead>\n",
       "    <tr style=\"text-align: right;\">\n",
       "      <th></th>\n",
       "      <th>hp_id</th>\n",
       "      <th>predicted_answer</th>\n",
       "      <th>retrieved_docs</th>\n",
       "      <th>qa_id</th>\n",
       "      <th>source</th>\n",
       "    </tr>\n",
       "  </thead>\n",
       "  <tbody>\n",
       "    <tr>\n",
       "      <th>0</th>\n",
       "      <td>0</td>\n",
       "      <td>The Supervisory Board met five times in the 20...</td>\n",
       "      <td>Retrieved document 0: 1 2 0 2 d r a o B y r o ...</td>\n",
       "      <td>7610ff41-1e9d-4bca-8ac5-557dcf3ca98c</td>\n",
       "      <td>./resources/document_store\\msg_life-gb-2021-EN...</td>\n",
       "    </tr>\n",
       "    <tr>\n",
       "      <th>1</th>\n",
       "      <td>0</td>\n",
       "      <td>The Supervisory Board received detailed report...</td>\n",
       "      <td>Retrieved document 0: All significant matters ...</td>\n",
       "      <td>e2a435ce-2332-4077-82fb-9489cd9b7979</td>\n",
       "      <td>./resources/document_store\\msg_life-gb-2021-EN...</td>\n",
       "    </tr>\n",
       "    <tr>\n",
       "      <th>2</th>\n",
       "      <td>1</td>\n",
       "      <td>The Supervisory Board met five times in the 20...</td>\n",
       "      <td>Retrieved document 0: ACTIVITIES OF THE SUPERV...</td>\n",
       "      <td>7610ff41-1e9d-4bca-8ac5-557dcf3ca98c</td>\n",
       "      <td>./resources/document_store\\msg_life-gb-2021-EN...</td>\n",
       "    </tr>\n",
       "    <tr>\n",
       "      <th>3</th>\n",
       "      <td>1</td>\n",
       "      <td>The Supervisory Board received detailed report...</td>\n",
       "      <td>Retrieved document 0: The Supervisory Board re...</td>\n",
       "      <td>e2a435ce-2332-4077-82fb-9489cd9b7979</td>\n",
       "      <td>./resources/document_store\\msg_life-gb-2021-EN...</td>\n",
       "    </tr>\n",
       "  </tbody>\n",
       "</table>\n",
       "</div>"
      ],
      "text/plain": [
       "   hp_id  ...                                             source\n",
       "0      0  ...  ./resources/document_store\\msg_life-gb-2021-EN...\n",
       "1      0  ...  ./resources/document_store\\msg_life-gb-2021-EN...\n",
       "2      1  ...  ./resources/document_store\\msg_life-gb-2021-EN...\n",
       "3      1  ...  ./resources/document_store\\msg_life-gb-2021-EN...\n",
       "\n",
       "[4 rows x 5 columns]"
      ]
     },
     "execution_count": 124,
     "metadata": {},
     "output_type": "execute_result"
    }
   ],
   "source": [
    "df"
   ]
  },
  {
   "cell_type": "code",
   "execution_count": 88,
   "id": "47033351-07eb-4eef-a597-04cd984a6408",
   "metadata": {},
   "outputs": [
    {
     "data": {
      "text/html": [
       "<div>\n",
       "<style scoped>\n",
       "    .dataframe tbody tr th:only-of-type {\n",
       "        vertical-align: middle;\n",
       "    }\n",
       "\n",
       "    .dataframe tbody tr th {\n",
       "        vertical-align: top;\n",
       "    }\n",
       "\n",
       "    .dataframe thead th {\n",
       "        text-align: right;\n",
       "    }\n",
       "</style>\n",
       "<table border=\"1\" class=\"dataframe\">\n",
       "  <thead>\n",
       "    <tr style=\"text-align: right;\">\n",
       "      <th></th>\n",
       "      <th>predicted_answer</th>\n",
       "      <th>retrieved_docs</th>\n",
       "      <th>qa_id</th>\n",
       "    </tr>\n",
       "  </thead>\n",
       "  <tbody>\n",
       "    <tr>\n",
       "      <th>0</th>\n",
       "      <td>The Supervisory Board met five times in the 20...</td>\n",
       "      <td>Retrieved document 0: 1 2 0 2 d r a o B y r o ...</td>\n",
       "      <td>7610ff41-1e9d-4bca-8ac5-557dcf3ca98c</td>\n",
       "    </tr>\n",
       "    <tr>\n",
       "      <th>1</th>\n",
       "      <td>The Supervisory Board received detailed report...</td>\n",
       "      <td>Retrieved document 0: All significant matters ...</td>\n",
       "      <td>e2a435ce-2332-4077-82fb-9489cd9b7979</td>\n",
       "    </tr>\n",
       "    <tr>\n",
       "      <th>2</th>\n",
       "      <td>The text does not provide information about th...</td>\n",
       "      <td>Retrieved document 0: To prepare for their dec...</td>\n",
       "      <td>fa3300d1-88dd-4057-a1fb-57d1d445a3de</td>\n",
       "    </tr>\n",
       "    <tr>\n",
       "      <th>3</th>\n",
       "      <td>The context does not provide information about...</td>\n",
       "      <td>Retrieved document 0: The auditor audited the ...</td>\n",
       "      <td>563e90a7-d20d-4b39-adde-d3445e32cdfe</td>\n",
       "    </tr>\n",
       "    <tr>\n",
       "      <th>4</th>\n",
       "      <td>The control agreement signed by msg life ag an...</td>\n",
       "      <td>Retrieved document 0: As of the reporting date...</td>\n",
       "      <td>96251a76-5044-4b42-afb5-52fa1ecf8248</td>\n",
       "    </tr>\n",
       "    <tr>\n",
       "      <th>...</th>\n",
       "      <td>...</td>\n",
       "      <td>...</td>\n",
       "      <td>...</td>\n",
       "    </tr>\n",
       "    <tr>\n",
       "      <th>61</th>\n",
       "      <td>The independent auditor's report stated that t...</td>\n",
       "      <td>Retrieved document 0: We have audited the cons...</td>\n",
       "      <td>7d297161-4487-46a3-ad64-6c5008248662</td>\n",
       "    </tr>\n",
       "    <tr>\n",
       "      <th>62</th>\n",
       "      <td>The legal representatives are responsible for ...</td>\n",
       "      <td>Retrieved document 0: Furthermore, the legal r...</td>\n",
       "      <td>bb8823b0-7c0f-459f-9970-52c41d74d077</td>\n",
       "    </tr>\n",
       "    <tr>\n",
       "      <th>63</th>\n",
       "      <td>The legal representatives are responsible for ...</td>\n",
       "      <td>Retrieved document 0: — otherwise appears to b...</td>\n",
       "      <td>803cca11-b041-43f1-a30b-59214f642225</td>\n",
       "    </tr>\n",
       "    <tr>\n",
       "      <th>64</th>\n",
       "      <td>The responsibilities of the auditor are to obt...</td>\n",
       "      <td>Retrieved document 0: Responsibility of the au...</td>\n",
       "      <td>39e401b8-95fd-4081-bb62-29a755e85aaf</td>\n",
       "    </tr>\n",
       "    <tr>\n",
       "      <th>65</th>\n",
       "      <td>The contact information for msg life ag is inf...</td>\n",
       "      <td>Retrieved document 0: The headquarters of msg ...</td>\n",
       "      <td>c2b29b26-2ff1-4145-9ba1-e4b91333d26c</td>\n",
       "    </tr>\n",
       "  </tbody>\n",
       "</table>\n",
       "<p>66 rows × 3 columns</p>\n",
       "</div>"
      ],
      "text/plain": [
       "                                     predicted_answer  ...                                 qa_id\n",
       "0   The Supervisory Board met five times in the 20...  ...  7610ff41-1e9d-4bca-8ac5-557dcf3ca98c\n",
       "1   The Supervisory Board received detailed report...  ...  e2a435ce-2332-4077-82fb-9489cd9b7979\n",
       "2   The text does not provide information about th...  ...  fa3300d1-88dd-4057-a1fb-57d1d445a3de\n",
       "3   The context does not provide information about...  ...  563e90a7-d20d-4b39-adde-d3445e32cdfe\n",
       "4   The control agreement signed by msg life ag an...  ...  96251a76-5044-4b42-afb5-52fa1ecf8248\n",
       "..                                                ...  ...                                   ...\n",
       "61  The independent auditor's report stated that t...  ...  7d297161-4487-46a3-ad64-6c5008248662\n",
       "62  The legal representatives are responsible for ...  ...  bb8823b0-7c0f-459f-9970-52c41d74d077\n",
       "63  The legal representatives are responsible for ...  ...  803cca11-b041-43f1-a30b-59214f642225\n",
       "64  The responsibilities of the auditor are to obt...  ...  39e401b8-95fd-4081-bb62-29a755e85aaf\n",
       "65  The contact information for msg life ag is inf...  ...  c2b29b26-2ff1-4145-9ba1-e4b91333d26c\n",
       "\n",
       "[66 rows x 3 columns]"
      ]
     },
     "execution_count": 88,
     "metadata": {},
     "output_type": "execute_result"
    }
   ],
   "source": [
    "df"
   ]
  },
  {
   "cell_type": "code",
   "execution_count": null,
   "id": "83a302b5-1113-43e8-955a-701146c99aa3",
   "metadata": {},
   "outputs": [],
   "source": []
  },
  {
   "cell_type": "code",
   "execution_count": 82,
   "id": "1a087e7c-002d-41b5-b422-7da78519e72d",
   "metadata": {},
   "outputs": [],
   "source": [
    "from backend.commons.chroma import ChromaClient\n",
    "from datetime import datetime\n",
    "\n",
    "with ChromaClient() as client:\n",
    "    collection = client.create_collection(name=\"mycol\", metadata={\"timestamp\":  datetime.now().strftime(\"%Y-%m-%d %H:%M:%S,%f\")[:-3]})\n",
    "\n",
    "    "
   ]
  },
  {
   "cell_type": "code",
   "execution_count": 83,
   "id": "19c85b5d-b496-4780-b4c8-2fddae38e769",
   "metadata": {},
   "outputs": [
    {
     "data": {
      "text/plain": [
       "{'name': 'mycol',\n",
       " 'id': UUID('b619c529-8277-4a91-a577-f0298e002dc5'),\n",
       " 'metadata': {'timestamp': '2023-10-06 18:42:21,831'}}"
      ]
     },
     "execution_count": 83,
     "metadata": {},
     "output_type": "execute_result"
    }
   ],
   "source": [
    "collection.dict()"
   ]
  },
  {
   "cell_type": "code",
   "execution_count": null,
   "id": "bd285631-f9da-4ffa-8497-bee603e88781",
   "metadata": {},
   "outputs": [],
   "source": []
  },
  {
   "cell_type": "markdown",
   "id": "864a584f-ecab-45be-815a-acc3c515c3f6",
   "metadata": {},
   "source": [
    "# Generate Q/A pairs"
   ]
  },
  {
   "cell_type": "code",
   "execution_count": null,
   "id": "e718144d-8fa6-41e3-8fbf-467cf93cc40a",
   "metadata": {},
   "outputs": [],
   "source": [
    "# generate a Q/A pair for a document chunk\n",
    "# result = generate_eval_set(llm, chunks)\n",
    "# from eval_backend.utils import write_json\n",
    "# write_json(gt_dataset, filename=\"./eval_set.json\")"
   ]
  },
  {
   "cell_type": "code",
   "execution_count": null,
   "id": "eec70e59-a9f5-4302-818c-755da9289b7f",
   "metadata": {},
   "outputs": [],
   "source": []
  },
  {
   "cell_type": "code",
   "execution_count": null,
   "id": "54e5eb66-6c64-44b8-8056-36a5ee4aec40",
   "metadata": {},
   "outputs": [],
   "source": [
    "from langchain.chains import QAGenerationChain\n",
    "from commons import QA_PROMPT_SELECTOR\n",
    "\n",
    "eval_set = []\n",
    "qa_chain = QAGenerationChain.from_llm(hp.retrieval_llm, prompt=QA_PROMPT_SELECTOR.get_prompt(hp.retrieval_llm))\n",
    "\n",
    "await get_qa_from_chunk(chunks[7], qa_chain, eval_set)"
   ]
  },
  {
   "cell_type": "code",
   "execution_count": null,
   "id": "780eeaf9-7a62-46d6-ab9b-be556ac87fd5",
   "metadata": {},
   "outputs": [],
   "source": [
    "eval_set"
   ]
  },
  {
   "cell_type": "code",
   "execution_count": null,
   "id": "8590ade7-454b-4695-a59b-ebc72f33b241",
   "metadata": {},
   "outputs": [],
   "source": []
  },
  {
   "cell_type": "code",
   "execution_count": null,
   "id": "73107f61-58c2-4134-8556-9b11f925f7aa",
   "metadata": {},
   "outputs": [],
   "source": [
    "eval_set1 = []\n",
    "qa_chain = QAGenerationChain.from_llm(hp.retrieval_llm)\n",
    "\n",
    "await get_qa_from_chunk(chunks[7], qa_chain, eval_set1)"
   ]
  },
  {
   "cell_type": "code",
   "execution_count": null,
   "id": "cfc8a626-1845-41a3-92c8-21cd0aabdfe4",
   "metadata": {},
   "outputs": [],
   "source": [
    "pprint(eval_set1)"
   ]
  },
  {
   "cell_type": "code",
   "execution_count": null,
   "id": "44c10d30-877b-4dca-91da-21c165db58bc",
   "metadata": {},
   "outputs": [],
   "source": []
  },
  {
   "cell_type": "code",
   "execution_count": null,
   "id": "932cc2d2-f788-4e62-858f-a7c9865871d7",
   "metadata": {},
   "outputs": [],
   "source": []
  },
  {
   "cell_type": "code",
   "execution_count": null,
   "id": "14e29e91-1e44-4501-a256-f258f20ce209",
   "metadata": {},
   "outputs": [],
   "source": []
  },
  {
   "cell_type": "code",
   "execution_count": null,
   "id": "b22b2c00-b6d0-4ed4-9bc0-6a25e83a7108",
   "metadata": {},
   "outputs": [],
   "source": [
    "def pprint(eval):\n",
    "    for qa in eval:\n",
    "        print(qa[\"question\"])\n",
    "        print(qa[\"answer\"])\n",
    "        print(\"-\"*50)"
   ]
  },
  {
   "cell_type": "code",
   "execution_count": null,
   "id": "a0f1318a-77de-44c1-b90a-a625dd2b4117",
   "metadata": {},
   "outputs": [],
   "source": []
  },
  {
   "cell_type": "code",
   "execution_count": null,
   "id": "0ef2a43e-8d2e-4010-8068-e869f6a26cd1",
   "metadata": {},
   "outputs": [],
   "source": [
    "for qa in gt_dataset:\n",
    "    if len(qa['answer'])>200:\n",
    "        print(qa[\"question\"])\n",
    "        print(f\"-> {qa['answer']}\")\n",
    "        print(\"-\"*50)"
   ]
  },
  {
   "cell_type": "code",
   "execution_count": null,
   "id": "d4f28386-5340-4362-a6b5-bbb49da6f8a8",
   "metadata": {},
   "outputs": [],
   "source": []
  },
  {
   "cell_type": "code",
   "execution_count": null,
   "id": "4fed3c9f-72c6-4c0b-bb38-6d0d1e18ae77",
   "metadata": {},
   "outputs": [],
   "source": []
  },
  {
   "cell_type": "code",
   "execution_count": null,
   "id": "300a2662-31be-4177-9074-031a0360c1b1",
   "metadata": {},
   "outputs": [],
   "source": []
  },
  {
   "cell_type": "code",
   "execution_count": null,
   "id": "0026a487-2faf-4f2c-92bf-fa2d223c13f7",
   "metadata": {},
   "outputs": [],
   "source": []
  },
  {
   "cell_type": "code",
   "execution_count": null,
   "id": "cd960e1e-c8ad-4717-a0af-6c7e3161dc69",
   "metadata": {},
   "outputs": [],
   "source": []
  },
  {
   "cell_type": "code",
   "execution_count": null,
   "id": "426f0f5c-6c02-46f5-83a8-314f8b6ad8c9",
   "metadata": {},
   "outputs": [],
   "source": []
  },
  {
   "cell_type": "code",
   "execution_count": null,
   "id": "a90581f7-84ad-452a-8207-07ea2b4c9567",
   "metadata": {},
   "outputs": [],
   "source": []
  },
  {
   "cell_type": "markdown",
   "id": "dffded25-d199-494c-9551-aa3cd15ec38b",
   "metadata": {},
   "source": [
    "# Set up vectorstore and retriever"
   ]
  },
  {
   "cell_type": "code",
   "execution_count": null,
   "id": "ff01af81-cbe7-48a1-a789-2d5d97df5b10",
   "metadata": {},
   "outputs": [],
   "source": []
  },
  {
   "cell_type": "code",
   "execution_count": null,
   "id": "11c0ca75-0ba1-4b9b-b4b8-503a156e320b",
   "metadata": {},
   "outputs": [],
   "source": [
    "from langchain.embeddings import OpenAIEmbeddings\n",
    "from eval_backend.utils import get_retriever\n",
    "\n",
    "llm = ChatOpenAI(temperature=0, model=\"gpt-3.5-turbo\")\n",
    "chunks_vs = split_data(data=data, chunk_size=512)\n",
    "retriever = get_retriever(chunks_vs, OpenAIEmbeddings(model=\"text-embedding-ada-002\"), 3)"
   ]
  },
  {
   "cell_type": "code",
   "execution_count": null,
   "id": "1ef61adc-9ac3-4b8e-9a79-44d1a8955a0d",
   "metadata": {},
   "outputs": [],
   "source": []
  },
  {
   "cell_type": "markdown",
   "id": "025a103f-9c06-4866-ae87-aa8f2ac86058",
   "metadata": {},
   "source": [
    "# LLM chain for query answering based on document chunks"
   ]
  },
  {
   "cell_type": "code",
   "execution_count": null,
   "id": "30f9a0fb-899c-4a9f-bbbf-ea4d842b9c56",
   "metadata": {},
   "outputs": [],
   "source": [
    "from eval_backend.utils import get_qa_llm\n",
    "qa_llm = get_qa_llm(retriever)#, retrieval_llm=ChatOpenAI(temperature=0, model=\"gpt-4\"))\n",
    "\n",
    "await qa_llm.acall(\"hi\")"
   ]
  },
  {
   "cell_type": "code",
   "execution_count": null,
   "id": "b7561288-a52e-4d27-be01-882bed8a260f",
   "metadata": {},
   "outputs": [],
   "source": [
    "await qa_llm.acall(gt_dataset[0])"
   ]
  },
  {
   "cell_type": "markdown",
   "id": "91ac142f-b2a8-4796-ba06-c6d1ff31bf3a",
   "metadata": {},
   "source": [
    "# QA_LLM grading functions"
   ]
  },
  {
   "cell_type": "code",
   "execution_count": null,
   "id": "1a486ab7-611b-4078-90f8-434e08c41a92",
   "metadata": {},
   "outputs": [],
   "source": [
    "from eval_backend.eval_metrics import grade_model_answer"
   ]
  },
  {
   "cell_type": "code",
   "execution_count": null,
   "id": "f76dcbf2-0eed-4a82-a444-088da48e458e",
   "metadata": {},
   "outputs": [],
   "source": []
  },
  {
   "cell_type": "code",
   "execution_count": null,
   "id": "54ff8d04-8b20-4878-9138-a30362f837d4",
   "metadata": {},
   "outputs": [],
   "source": [
    "gt_dataset[10]"
   ]
  },
  {
   "cell_type": "code",
   "execution_count": null,
   "id": "04e3cb4e-09e3-4edc-b847-3e9685b8dbf7",
   "metadata": {},
   "outputs": [],
   "source": [
    "qa_llm_answer = qa_llm(gt_dataset[10][\"question\"])\n",
    "qa_llm_answer"
   ]
  },
  {
   "cell_type": "code",
   "execution_count": null,
   "id": "51d8646e-d3cc-4f80-bd03-f08c56cf899f",
   "metadata": {},
   "outputs": [],
   "source": [
    "res = grade_model_answer([gt_dataset[10], gt_dataset[10]],\n",
    "                   [qa_llm_answer, qa_llm_answer],\n",
    "                   grade_answer_prompt=\"GPT4\")"
   ]
  },
  {
   "cell_type": "code",
   "execution_count": null,
   "id": "ee16758f-262b-4e0c-8bb1-2d7cbe198e9e",
   "metadata": {},
   "outputs": [],
   "source": []
  },
  {
   "cell_type": "code",
   "execution_count": null,
   "id": "79895031-2621-4ab4-a8a9-52fd794adef1",
   "metadata": {},
   "outputs": [],
   "source": [
    "res"
   ]
  },
  {
   "cell_type": "code",
   "execution_count": null,
   "id": "1e72c6bf-a754-4d8d-a932-99ade64199a3",
   "metadata": {},
   "outputs": [],
   "source": []
  },
  {
   "cell_type": "code",
   "execution_count": null,
   "id": "bbcd5f08-5a4d-440d-aef6-1c6d0f70a1c0",
   "metadata": {},
   "outputs": [],
   "source": [
    "# test for incorrect answer\n",
    "qa_predicted = qa_llm(\"What is the Life Factory?\")\n",
    "qa_predicted[\"question\"] = gt_dataset[0][\"question\"]"
   ]
  },
  {
   "cell_type": "code",
   "execution_count": null,
   "id": "d3c2246a-ad52-43b5-b04a-1766bf11e9a3",
   "metadata": {},
   "outputs": [],
   "source": [
    "qa_predicted"
   ]
  },
  {
   "cell_type": "code",
   "execution_count": null,
   "id": "3dd31d69-bad6-42ec-8a1f-ba6ee48732b8",
   "metadata": {},
   "outputs": [],
   "source": [
    "grade_model_answer([gt_dataset[0]],\n",
    "                   [qa_predicted],\n",
    "                   grade_answer_prompt=\"GPT4\")"
   ]
  },
  {
   "cell_type": "code",
   "execution_count": null,
   "id": "ed1987b3-5e8b-4eac-bec8-7bcb172488e0",
   "metadata": {},
   "outputs": [],
   "source": []
  },
  {
   "cell_type": "code",
   "execution_count": null,
   "id": "862a272a-8f22-41a8-b2c6-e52b03355872",
   "metadata": {},
   "outputs": [],
   "source": []
  },
  {
   "cell_type": "markdown",
   "id": "cad5ddee-cd16-4702-9013-1dc9918127c2",
   "metadata": {},
   "source": [
    "# Calculate quality of retrieved documents"
   ]
  },
  {
   "cell_type": "code",
   "execution_count": null,
   "id": "25f884e9-77c8-43d6-befb-6378a4accd93",
   "metadata": {},
   "outputs": [],
   "source": [
    "from eval_backend.eval_metrics import grade_model_retrieval\n",
    "\n",
    "qa_pair_index = 10\n",
    "query = gt_dataset[qa_pair_index][\"question\"]\n",
    "docs_retrieved = retriever.get_relevant_documents(gt_dataset[10][\"question\"])\n",
    "\n",
    "retrieved_doc_text = \"\\n\\n\".join(f\"Retrieved document {i}: {doc.page_content}\" for i, doc in enumerate(docs_retrieved))\n",
    "\n",
    "retrieved_dict = {\"question\": gt_dataset[qa_pair_index][\"question\"],\n",
    "             \"answer\": gt_dataset[qa_pair_index][\"answer\"], \"result\": retrieved_doc_text}\n",
    "\n",
    "grade_model_retrieval([gt_dataset[qa_pair_index],gt_dataset[qa_pair_index]],\n",
    "                      [retrieved_dict,retrieved_dict],\n",
    "                      grade_docs_prompt=\"x\")"
   ]
  },
  {
   "cell_type": "code",
   "execution_count": null,
   "id": "030b7eaa-44a2-45c7-b608-163cd8e8ec28",
   "metadata": {},
   "outputs": [],
   "source": [
    "gt_dataset[qa_pair_index]"
   ]
  },
  {
   "cell_type": "code",
   "execution_count": null,
   "id": "42739318-f34c-4410-b51a-902c4915036c",
   "metadata": {},
   "outputs": [],
   "source": []
  },
  {
   "cell_type": "code",
   "execution_count": null,
   "id": "e687bfc8-9186-4802-90ca-4fb28a58602f",
   "metadata": {},
   "outputs": [],
   "source": []
  },
  {
   "cell_type": "markdown",
   "id": "578ecd4a-dc18-429a-85ad-74d4f8b37b5a",
   "metadata": {},
   "source": [
    "# Calculate Embedding similarities"
   ]
  },
  {
   "cell_type": "code",
   "execution_count": null,
   "id": "444a9e48-2278-4324-b01d-94d8bd1ebf9c",
   "metadata": {},
   "outputs": [],
   "source": [
    "def grade_embedding_similarity(gt_dataset: List[Dict[str,str]], predictions: List[str],\n",
    "                                retriever: VectorStoreRetriever, embedding_model: Embeddings) -> List[float]:\n",
    "\n",
    "    m=len(gt_dataset)\n",
    "\n",
    "    target_embeddings = np.array(embedding_model.embed_documents([qa_pair[\"answer\"] for qa_pair in gt_dataset])).reshape(m, -1)\n",
    "    predicted_embeddings = np.array(embedding_model.embed_documents(predictions)).reshape(m, -1)\n",
    "\n",
    "    # similarities between openai embeddings ranges from 0.7 - 1.0 only\n",
    "    similarities = target_embeddings @ predicted_embeddings.T\n",
    "\n",
    "    return np.diag(similarities)"
   ]
  },
  {
   "cell_type": "code",
   "execution_count": null,
   "id": "c2d0d2f4-671b-4fcd-8cef-0fc0c71a5af0",
   "metadata": {},
   "outputs": [],
   "source": [
    "grade_embedding_similarity([gt_dataset[0], gt_dataset[0]],\n",
    "                            [qa_llm.run(gt_dataset[0][\"question\"]), qa_llm.run(gt_dataset[15][\"question\"])],\n",
    "                            retriever=retriever,\n",
    "                            embedding_model=OpenAIEmbeddings(model=\"text-embedding-ada-002\"))"
   ]
  },
  {
   "cell_type": "code",
   "execution_count": null,
   "id": "2fa625c8-74a0-4892-86e0-14a90967dc70",
   "metadata": {},
   "outputs": [],
   "source": []
  },
  {
   "cell_type": "code",
   "execution_count": null,
   "id": "582e6645-1508-4474-96c4-2a301c90e6c0",
   "metadata": {},
   "outputs": [],
   "source": [
    "true_answer = gt_dataset[0][\"answer\"]\n",
    "pred_answer = qa_llm.run(gt_dataset[0][\"question\"])\n",
    "\n",
    "true_answer, pred_answer"
   ]
  },
  {
   "cell_type": "code",
   "execution_count": null,
   "id": "1eeba613-fd3c-4188-ac2f-67cf6ad26086",
   "metadata": {},
   "outputs": [],
   "source": [
    "import evaluate\n",
    "\n",
    "rouge_metric = evaluate.load(\"rouge\")\n",
    "\n",
    "rouge_metric.compute(references=[true_answer], predictions=[pred_answer])"
   ]
  },
  {
   "cell_type": "code",
   "execution_count": null,
   "id": "2afd58b2-0a3c-44a3-ac0e-369980fbc088",
   "metadata": {},
   "outputs": [],
   "source": []
  },
  {
   "cell_type": "code",
   "execution_count": null,
   "id": "dcafc13e-c809-4ab2-86a8-0a1a07b06207",
   "metadata": {},
   "outputs": [],
   "source": []
  },
  {
   "cell_type": "code",
   "execution_count": null,
   "id": "107f1d1c-4f32-4ad2-a8e5-215fbfdd9809",
   "metadata": {},
   "outputs": [],
   "source": [
    "predictions = [\"my cat ate the cake\"]\n",
    "references = [\"my dog wants the cake too\"]\n",
    "results = rouge_metric.compute(predictions=predictions, references=references)\n",
    "print(results)"
   ]
  },
  {
   "cell_type": "code",
   "execution_count": null,
   "id": "754991b5-6303-4f94-8efe-346fdf6d0ede",
   "metadata": {},
   "outputs": [],
   "source": [
    "2 * (3/6 * 3/5) / (3/6 + 3/5), 2 * (1/5 * 1/4) / (1/5 + 1/4), "
   ]
  },
  {
   "cell_type": "code",
   "execution_count": null,
   "id": "150c57a5-38e9-4b77-a45f-c1c71c53b17a",
   "metadata": {},
   "outputs": [],
   "source": []
  },
  {
   "cell_type": "code",
   "execution_count": null,
   "id": "031b0a19-4305-4af2-bbcd-d35153910c91",
   "metadata": {},
   "outputs": [],
   "source": []
  },
  {
   "cell_type": "code",
   "execution_count": null,
   "id": "7935cebc-80f8-4abc-b02a-67ffb4e9f91f",
   "metadata": {},
   "outputs": [],
   "source": [
    "import os\n",
    "\n",
    "os.path.exists(\"../resources/eval_data.json\")"
   ]
  },
  {
   "cell_type": "code",
   "execution_count": null,
   "id": "bc45d35e-dabf-493a-809a-99bcf053d786",
   "metadata": {},
   "outputs": [],
   "source": []
  },
  {
   "cell_type": "code",
   "execution_count": null,
   "id": "e08b38e3-94fc-40ed-a9d3-088c390bd422",
   "metadata": {},
   "outputs": [],
   "source": []
  }
 ],
 "metadata": {
  "kernelspec": {
   "display_name": "Python 3 (ipykernel)",
   "language": "python",
   "name": "python3"
  },
  "language_info": {
   "codemirror_mode": {
    "name": "ipython",
    "version": 3
   },
   "file_extension": ".py",
   "mimetype": "text/x-python",
   "name": "python",
   "nbconvert_exporter": "python",
   "pygments_lexer": "ipython3",
   "version": "3.11.6"
  }
 },
 "nbformat": 4,
 "nbformat_minor": 5
}
