{
 "cells": [
  {
   "cell_type": "code",
   "execution_count": 1,
   "id": "a3f077f9-cb9d-4b61-b3a9-72bcb2fd57c0",
   "metadata": {},
   "outputs": [],
   "source": [
    "import warnings\n",
    "warnings.filterwarnings('ignore')\n",
    "\n",
    "import dotenv\n",
    "dotenv.load_dotenv(dotenv.find_dotenv(), override=True)\n",
    "\n",
    "import numpy as np\n",
    "\n",
    "from typing import Any, Dict, List, Optional, Callable\n",
    "\n",
    "from langchain.docstore.document import Document\n",
    "from langchain.schema.language_model import BaseLanguageModel\n",
    "from langchain.chat_models import ChatOpenAI"
   ]
  },
  {
   "cell_type": "markdown",
   "id": "5bc0d927-ecba-41fc-8378-35de3fab0d55",
   "metadata": {},
   "source": [
    "# load and split data into chunks"
   ]
  },
  {
   "cell_type": "code",
   "execution_count": 2,
   "id": "8e340cdf-f498-4241-84ed-132d4ef93b7c",
   "metadata": {},
   "outputs": [
    {
     "name": "stdout",
     "output_type": "stream",
     "text": [
      "Loading ../resources/msg_life-gb-2021-EN_final.pdf\n"
     ]
    }
   ],
   "source": [
    "# loading PDF, DOCX and TXT files as LangChain Documents\n",
    "import tiktoken\n",
    "\n",
    "def load_document(file):\n",
    "    import os\n",
    "    name, extension = os.path.splitext(file)\n",
    "\n",
    "    if extension == '.pdf':\n",
    "        from langchain.document_loaders import (\n",
    "        PyPDFLoader, # already splits data during loading\n",
    "        UnstructuredPDFLoader, # returns only 1 Document\n",
    "        PyMuPDFLoader # returns 1 Document per page\n",
    "        )\n",
    "        print(f'Loading {file}')\n",
    "        loader = UnstructuredPDFLoader(file)\n",
    "    elif extension == '.txt':\n",
    "        from langchain.document_loaders import TextLoader\n",
    "        loader = TextLoader(file, encoding=\"utf-8\")\n",
    "    elif extension == \".docx\":\n",
    "        from langchain.document_loaders import Docx2txtLoader\n",
    "        loader = Docx2txtLoader(file)\n",
    "\n",
    "    data = loader.load()\n",
    "    return data\n",
    "\n",
    "def split_data(data: List[Document],\n",
    "               chunk_size: Optional[int] = 4096,\n",
    "               chunk_overlap: Optional[int] = 0,\n",
    "               length_function: Optional[Callable] = lambda x: len(tiktoken.encoding_for_model(\"text-embedding-ada-002\").encode(x))\n",
    "              ):\n",
    "    \n",
    "    from langchain.text_splitter import RecursiveCharacterTextSplitter\n",
    "    \n",
    "    text_splitter = RecursiveCharacterTextSplitter(chunk_size=chunk_size,\n",
    "                                                   chunk_overlap=chunk_overlap,\n",
    "                                                   length_function=length_function)\n",
    "    \n",
    "    chunks = text_splitter.split_documents(data)\n",
    "    return chunks\n",
    "\n",
    "llm = ChatOpenAI(temperature=0, model=\"gpt-3.5-turbo\")\n",
    "\n",
    "data = load_document(\"../resources/msg_life-gb-2021-EN_final.pdf\")\n",
    "chunks = split_data(data=data, chunk_size=3400)"
   ]
  },
  {
   "cell_type": "code",
   "execution_count": 3,
   "id": "e88fc82f-a35b-4e07-aa4a-7c405b269643",
   "metadata": {},
   "outputs": [
    {
     "name": "stdout",
     "output_type": "stream",
     "text": [
      "number of tokens in document: 45390\n",
      "number of elements in data: 1\n",
      "number of chunks: 14\n",
      "average number of tokens per chunk: 3242.1428571428573\n"
     ]
    }
   ],
   "source": [
    "print(f\"number of tokens in document: {sum([llm.get_num_tokens(chunk.page_content) for chunk in chunks])}\\\n",
    "\\nnumber of elements in data: {len(data)}\\\n",
    "\\nnumber of chunks: {len(chunks)}\\\n",
    "\\naverage number of tokens per chunk: {np.average([llm.get_num_tokens(chunk.page_content) for chunk in chunks])}\")"
   ]
  },
  {
   "cell_type": "code",
   "execution_count": null,
   "id": "48f3a766-57a2-4b5a-9540-7ebbd37214b8",
   "metadata": {},
   "outputs": [],
   "source": []
  },
  {
   "cell_type": "markdown",
   "id": "864a584f-ecab-45be-815a-acc3c515c3f6",
   "metadata": {},
   "source": [
    "# Generate Q/A pairs"
   ]
  },
  {
   "cell_type": "code",
   "execution_count": 4,
   "id": "e718144d-8fa6-41e3-8fbf-467cf93cc40a",
   "metadata": {},
   "outputs": [],
   "source": [
    "# generate a Q/A pair for a document chunk\n",
    "def generate_eval_set(llm: BaseLanguageModel, chunks: List[Document]) -> List[Dict[str,str]]:\n",
    "    import numpy as np\n",
    "    from langchain.chains import QAGenerationChain\n",
    "    from json import JSONDecodeError\n",
    "    import itertools\n",
    "\n",
    "    # set up QAGenerationChain chain using GPT 3.5\n",
    "    qa_generator_chain = QAGenerationChain.from_llm(llm,k=1)#, prompt=CHAT_PROMPT)\n",
    "    eval_set = []\n",
    "\n",
    "    # catch any QA generation errors and re-try until QA pair is generated\n",
    "    for i, chunk in enumerate(chunks):\n",
    "        \n",
    "        #if llm.get_num_tokens(chunk.page_content) < 1500:\n",
    "        #    print(f\"Not considering {i}/{len(chunks)} because too small\")\n",
    "        #    continue\n",
    "            \n",
    "        try:\n",
    "            qa_pair = qa_generator_chain.run(chunk.page_content)\n",
    "            eval_set.append(qa_pair)\n",
    "            awaiting_answer = False\n",
    "        except JSONDecodeError:\n",
    "            print(f\"Error occurred inside QAChain in chunk {i}/{len(chunks)}\")\n",
    "            \n",
    "    eval_pair = list(itertools.chain.from_iterable(eval_set))\n",
    "    return eval_pair\n",
    "\n",
    "result = generate_eval_set(llm, chunks)"
   ]
  },
  {
   "cell_type": "code",
   "execution_count": 5,
   "id": "e83baab1-7f3d-402f-9c2e-cf281c3e7fde",
   "metadata": {
    "scrolled": true
   },
   "outputs": [
    {
     "data": {
      "text/plain": [
       "[{'question': 'How many times did the Supervisory Board meet in the 2021 financial year?',\n",
       "  'answer': 'The Supervisory Board met five times in the 2021 financial year.'},\n",
       " {'question': 'What reports did the Supervisory Board receive from the Management Board?',\n",
       "  'answer': 'The Supervisory Board received detailed reports from the Management Board in preparation for each meeting.'},\n",
       " {'question': 'Who was appointed as Chairman of the Supervisory Board?',\n",
       "  'answer': 'Johann Zehetmaier'},\n",
       " {'question': 'What is the primary income potential for the holding company?',\n",
       "  'answer': 'Earnings from participating interests'},\n",
       " {'question': 'Where are the headquarters of msg life ag located?',\n",
       "  'answer': 'The headquarters of msg life ag are located in Leinfelden-Echterdingen near Stuttgart, Germany.'},\n",
       " {'question': 'Who are the members of the Management Board of msg life ag as of 31 December 2021?',\n",
       "  'answer': 'The members of the Management Board of msg life ag as of 31 December 2021 are Rolf Zielke (Chairman), Dr Aristid Neuburger (Deputy Chairman), Francesco Cargnel, Holger Gorissen, Robert Hess, Milenko Radic, Jens Stäcker, and Dr Wolf Wiedmann.'},\n",
       " {'question': 'Who are the four members of the Supervisory Board of the company as of December 31, 2021?',\n",
       "  'answer': 'Johann Zehetmaier, Dr Martin Strobel, Dr Thomas Noth, and Dr Jürgen Zehetmaier'},\n",
       " {'question': 'According to the IMF, what is the forecasted global growth rate for this year?',\n",
       "  'answer': 'The IMF expects the global growth rate to fall from 5.5 per cent in 2021 to 4.1 per cent this year.'},\n",
       " {'question': 'What is the expected GDP growth rate for Germany in 2022?',\n",
       "  'answer': '3.6 per cent'},\n",
       " {'question': \"What was the purpose of the ECB's Pandemic Emergency Purchase Programme (PEPP)?\",\n",
       "  'answer': 'The purpose of the PEPP was to mitigate the severe economic impacts of the Covid-19 crisis by purchasing government and corporate bonds.'},\n",
       " {'question': 'What was the main driver of the rise in inflation in Eurozone countries?',\n",
       "  'answer': 'High energy costs'},\n",
       " {'question': 'What is the purpose of the German Pension Overview Act (RentÜG)?',\n",
       "  'answer': 'The purpose of the German Pension Overview Act (RentÜG) is to provide customers with a quick overview of their statutory, company, and private pension entitlements.'},\n",
       " {'question': 'What was the total amount invested by the insurance industry in IT in the 2020 financial year?',\n",
       "  'answer': 'Around 5.6 billion euros'},\n",
       " {'question': 'What were the financial key performance indicators of the msg life Group in the reporting period?',\n",
       "  'answer': 'The msg life Group recorded gross Group revenue from its own business under German GAAP of 176.1 million euros and Group earnings before interest, taxes, depreciation and amortisation (EBITDA) under German GAAP of 17.9 million euros.'},\n",
       " {'question': 'What were the gross Group revenue and Group earnings before interest, taxes, depreciation and amortisation (EBITDA) recorded by the msg life Group?',\n",
       "  'answer': 'The msg life Group recorded gross Group revenue of 176.1 million euros and Group earnings before interest, taxes, depreciation and amortisation (EBITDA) of 17.9 million euros.'},\n",
       " {'question': 'What percentage of the total turnover does licensing income represent?',\n",
       "  'answer': '7.3 per cent'},\n",
       " {'question': 'What were the total costs in the 2021 financial year and how did they compare to the previous year?',\n",
       "  'answer': 'The total costs in the 2021 financial year amounted to 169.5 million euros, which decreased by 14.3 million euros compared to the previous year.'},\n",
       " {'question': 'What was the total sum of depreciation and amortisation in the current year?',\n",
       "  'answer': '2.8 million euros'},\n",
       " {'question': 'What was the change in the equity ratio of the Group compared to the previous year?',\n",
       "  'answer': 'The equity ratio of the Group increased from 53.0% to 57.9% compared to the previous year.'},\n",
       " {'question': 'What was the net profit generated by msg life ag in the 2021 financial year?',\n",
       "  'answer': '10.8 million euros'},\n",
       " {'question': 'What was the total assets as at 31 December 2021?',\n",
       "  'answer': '113.5 million euros'},\n",
       " {'question': 'How many permanent employees did the msg life Group have on December 31, 2021?',\n",
       "  'answer': '1,204'},\n",
       " {'question': \"What is the purpose of msg life's 'life talent' programme?\",\n",
       "  'answer': \"The purpose of msg life's 'life talent' programme is to identify employees with potential for a strategic and leading role in the company and provide them with individual support and professional development.\"},\n",
       " {'question': 'What rights do shareholders have at the annual general meeting?',\n",
       "  'answer': 'The rights of shareholders at the annual general meeting include the right to attend, speak, ask questions, put forward motions, and exercise voting rights.'},\n",
       " {'question': 'What is the responsibility of the managers of the individual divisions?',\n",
       "  'answer': 'The responsibility of the managers of the individual divisions is to continuously monitor and deal with the risks to which their own divisions are exposed.'},\n",
       " {'question': 'What is the main potential source of risk in the course of operating activity?',\n",
       "  'answer': 'The main potential source of risk in the course of operating activity lies in the calculation of the complex projects and in their organisational, functional, technical and commercial handling.'},\n",
       " {'question': 'What actions did the company take to remain operational during the Covid-19 pandemic?',\n",
       "  'answer': 'The company provided all employees with the necessary hardware and software to work remotely from home and moved almost all work to cyberspace.'},\n",
       " {'question': 'What are some of the risks mentioned in the text that could impact the future of the company?',\n",
       "  'answer': 'Some of the risks mentioned include economic crises, system breakdowns or attacks, the Covid-19 pandemic, economic sanctions, and competition risks.'},\n",
       " {'question': 'What is the purpose of liquidity management?',\n",
       "  'answer': 'The purpose of liquidity management is to finance predictable deficits at standard market terms under normal market conditions.'},\n",
       " {'question': 'What is the maximum default risk for the Group?',\n",
       "  'answer': 'The maximum default risk is equivalent to the nominal values less the valuation allowances.'},\n",
       " {'question': \"What percentage of the Group's revenues are generated in eurozone countries?\",\n",
       "  'answer': '90%'},\n",
       " {'question': \"What is the goal of msg life's partnership with IBM?\",\n",
       "  'answer': 'The goal is to significantly increase the competitiveness of international insurance companies through a fully digitised end-to-end solution, thereby securing their future.'},\n",
       " {'question': \"Which country is msg life's largest new customer located in?\",\n",
       "  'answer': 'The Netherlands'},\n",
       " {'question': 'What factors are crucial to the success of insurance companies given the current challenges?',\n",
       "  'answer': 'Microservice-oriented architectures designed to quickly support modified business models and high system versatility for the rapid introduction of innovative products.'},\n",
       " {'question': 'What are some of the challenges facing the German insurance industry?',\n",
       "  'answer': 'The digitisation of the economy and society, customer centricity and individualisation, industrialisation and automation, analytics and data effectiveness, and standardisation and integration.'},\n",
       " {'question': 'What is the expected Group earnings before interest, taxes, depreciation of property, plant and equipment and amortisation of intangible assets (EBITDA) for the 2022 financial year?',\n",
       "  'answer': 'Between 14.0 and 18.0 million euros'},\n",
       " {'question': 'What was the net income for the period in 2021?',\n",
       "  'answer': '12,141,827 Euro'},\n",
       " {'question': 'What is the total amount of liabilities to affiliated companies?',\n",
       "  'answer': '7,501,865'},\n",
       " {'question': \"What is the primary focus of the msg life Group's software solutions?\",\n",
       "  'answer': \"The msg life Group's software solutions primarily support life insurance companies and pension fund institutions in Europe and health and group insurance companies in the United States.\"},\n",
       " {'question': \"What is the primary focus of the msg life Group's software solutions?\",\n",
       "  'answer': \"The msg life Group's software solutions primarily support life insurance companies and pension fund institutions.\"},\n",
       " {'question': 'What is the purpose of the joint management team between msg life AG and msg nexinsure ag?',\n",
       "  'answer': 'To have unified responsibilities and strengthen their position as providers of insurance products.'},\n",
       " {'question': 'How are the asset and liability items of foreign business operations converted into euros?',\n",
       "  'answer': 'The asset and liability items of foreign business operations are converted into euros at the mean spot exchange rate on the respective reporting date.'},\n",
       " {'question': 'What is the criteria for recognizing deferred tax assets on losses carried forward?',\n",
       "  'answer': 'Deferred tax assets on losses carried forward must be taken into account in the amount of the offset of losses that is to be expected within the next five years.'},\n",
       " {'question': 'What is the purpose of offsetting receivables and payables in the consolidated financial statements?',\n",
       "  'answer': 'The purpose is to eliminate the receivables and corresponding payables between the companies included in the consolidated financial statements.'},\n",
       " {'question': 'What is the total amount of cash on hand, cash in banks, and cheques?',\n",
       "  'answer': 'The total amount of cash on hand, cash in banks, and cheques is 17.855 million euros.'},\n",
       " {'question': \"What is included in the balance sheet item 'Equity difference from foreign currency translation'?\",\n",
       "  'answer': 'Differences arising from currency conversion, with no impact on earnings, from the financial statements of foreign subsidiaries'},\n",
       " {'question': 'What is the total fair value of plan assets as of 31 December 2021?',\n",
       "  'answer': '4,164 Thousand euros'},\n",
       " {'question': 'What is the difference in pension provisions between the current year and the previous year?',\n",
       "  'answer': 'The difference in pension provisions between the current year and the previous year is 6.915 million euros.'},\n",
       " {'question': 'What are the personnel-related provisions primarily composed of?',\n",
       "  'answer': 'The personnel-related provisions primarily consist of short-term provisions for holidays, overtime, and entitlements to variable remuneration, long-term provisions for anniversary bonuses, and long-term provisions for settlements.'},\n",
       " {'question': 'What was the interest rate on the research loan received by msg life Austria?',\n",
       "  'answer': '0.75 per cent p.a.'},\n",
       " {'question': 'What was the total income from the reversal of other provisions in 2021?',\n",
       "  'answer': '2,033 thousand euros'},\n",
       " {'question': 'What are the components of the tax expenses?',\n",
       "  'answer': 'The components of the tax expenses are current income tax expenses and deferred taxes from temporary differences.'},\n",
       " {'question': 'What are the main non-cash effects in the cash flow from operating activities?',\n",
       "  'answer': 'The main non-cash effects in the cash flow from operating activities were depreciation of property, plant and equipment and intangible assets, as well as the increase and decrease in provisions.'},\n",
       " {'question': 'What is the purpose of the Annual Report mentioned in the text?',\n",
       "  'answer': 'The purpose of the Annual Report is to provide information on the management bodies, members of the Supervisory Board, and events after the reporting period.'},\n",
       " {'question': 'What significant event occurred after the reporting period?',\n",
       "  'answer': 'Russia invaded Ukraine and economic sanctions were imposed on Russia.'},\n",
       " {'question': 'What is the net carrying amount of intangible assets as at 31 December 2020?',\n",
       "  'answer': '7,561 Thousand euros'},\n",
       " {'question': 'What are the total assets as at 31 December 2020?',\n",
       "  'answer': '60,528 thousand euros'},\n",
       " {'question': 'What did the auditors declare regarding the consolidated financial statements?',\n",
       "  'answer': 'The auditors declared that the consolidated financial statements comply with the requirements of German commercial law and give a true and fair view of the assets and financial position of the Group.'},\n",
       " {'question': 'Who is responsible for the preparation of the consolidated financial statements?',\n",
       "  'answer': 'The legal representatives'},\n",
       " {'question': \"Who is responsible for assessing the Group's ability to continue as a going concern?\",\n",
       "  'answer': 'The legal representatives'},\n",
       " {'question': 'What is the purpose of evaluating the appropriateness of accounting policies used by the legal representatives?',\n",
       "  'answer': 'To assess the reasonableness of estimates made by the legal representatives and related disclosures.'},\n",
       " {'question': 'What is the website address for msg life ag?',\n",
       "  'answer': 'www.msg-life.com'}]"
      ]
     },
     "execution_count": 5,
     "metadata": {},
     "output_type": "execute_result"
    }
   ],
   "source": [
    "result"
   ]
  },
  {
   "cell_type": "code",
   "execution_count": 6,
   "id": "0ef2a43e-8d2e-4010-8068-e869f6a26cd1",
   "metadata": {},
   "outputs": [
    {
     "name": "stdout",
     "output_type": "stream",
     "text": [
      "Who are the members of the Management Board of msg life ag as of 31 December 2021?\n",
      "-> The members of the Management Board of msg life ag as of 31 December 2021 are Rolf Zielke (Chairman), Dr Aristid Neuburger (Deputy Chairman), Francesco Cargnel, Holger Gorissen, Robert Hess, Milenko Radic, Jens Stäcker, and Dr Wolf Wiedmann.\n",
      "--------------------------------------------------\n",
      "What is the purpose of the German Pension Overview Act (RentÜG)?\n",
      "-> The purpose of the German Pension Overview Act (RentÜG) is to provide customers with a quick overview of their statutory, company, and private pension entitlements.\n",
      "--------------------------------------------------\n",
      "What were the financial key performance indicators of the msg life Group in the reporting period?\n",
      "-> The msg life Group recorded gross Group revenue from its own business under German GAAP of 176.1 million euros and Group earnings before interest, taxes, depreciation and amortisation (EBITDA) under German GAAP of 17.9 million euros.\n",
      "--------------------------------------------------\n",
      "What were the gross Group revenue and Group earnings before interest, taxes, depreciation and amortisation (EBITDA) recorded by the msg life Group?\n",
      "-> The msg life Group recorded gross Group revenue of 176.1 million euros and Group earnings before interest, taxes, depreciation and amortisation (EBITDA) of 17.9 million euros.\n",
      "--------------------------------------------------\n",
      "What is the purpose of msg life's 'life talent' programme?\n",
      "-> The purpose of msg life's 'life talent' programme is to identify employees with potential for a strategic and leading role in the company and provide them with individual support and professional development.\n",
      "--------------------------------------------------\n",
      "What rights do shareholders have at the annual general meeting?\n",
      "-> The rights of shareholders at the annual general meeting include the right to attend, speak, ask questions, put forward motions, and exercise voting rights.\n",
      "--------------------------------------------------\n",
      "What is the responsibility of the managers of the individual divisions?\n",
      "-> The responsibility of the managers of the individual divisions is to continuously monitor and deal with the risks to which their own divisions are exposed.\n",
      "--------------------------------------------------\n",
      "What is the main potential source of risk in the course of operating activity?\n",
      "-> The main potential source of risk in the course of operating activity lies in the calculation of the complex projects and in their organisational, functional, technical and commercial handling.\n",
      "--------------------------------------------------\n",
      "What is the goal of msg life's partnership with IBM?\n",
      "-> The goal is to significantly increase the competitiveness of international insurance companies through a fully digitised end-to-end solution, thereby securing their future.\n",
      "--------------------------------------------------\n",
      "What factors are crucial to the success of insurance companies given the current challenges?\n",
      "-> Microservice-oriented architectures designed to quickly support modified business models and high system versatility for the rapid introduction of innovative products.\n",
      "--------------------------------------------------\n",
      "What are some of the challenges facing the German insurance industry?\n",
      "-> The digitisation of the economy and society, customer centricity and individualisation, industrialisation and automation, analytics and data effectiveness, and standardisation and integration.\n",
      "--------------------------------------------------\n",
      "What is the primary focus of the msg life Group's software solutions?\n",
      "-> The msg life Group's software solutions primarily support life insurance companies and pension fund institutions in Europe and health and group insurance companies in the United States.\n",
      "--------------------------------------------------\n",
      "What is the criteria for recognizing deferred tax assets on losses carried forward?\n",
      "-> Deferred tax assets on losses carried forward must be taken into account in the amount of the offset of losses that is to be expected within the next five years.\n",
      "--------------------------------------------------\n",
      "What are the personnel-related provisions primarily composed of?\n",
      "-> The personnel-related provisions primarily consist of short-term provisions for holidays, overtime, and entitlements to variable remuneration, long-term provisions for anniversary bonuses, and long-term provisions for settlements.\n",
      "--------------------------------------------------\n",
      "What are the main non-cash effects in the cash flow from operating activities?\n",
      "-> The main non-cash effects in the cash flow from operating activities were depreciation of property, plant and equipment and intangible assets, as well as the increase and decrease in provisions.\n",
      "--------------------------------------------------\n",
      "What is the purpose of the Annual Report mentioned in the text?\n",
      "-> The purpose of the Annual Report is to provide information on the management bodies, members of the Supervisory Board, and events after the reporting period.\n",
      "--------------------------------------------------\n",
      "What did the auditors declare regarding the consolidated financial statements?\n",
      "-> The auditors declared that the consolidated financial statements comply with the requirements of German commercial law and give a true and fair view of the assets and financial position of the Group.\n",
      "--------------------------------------------------\n"
     ]
    }
   ],
   "source": [
    "for qa in result:\n",
    "    if len(qa['answer'])>150:\n",
    "        print(qa[\"question\"])\n",
    "        print(f\"-> {qa['answer']}\")\n",
    "        print(\"-\"*50)"
   ]
  },
  {
   "cell_type": "code",
   "execution_count": 7,
   "id": "046b02fb-98aa-41d3-b2c8-6982184d43f9",
   "metadata": {},
   "outputs": [
    {
     "data": {
      "text/plain": [
       "17"
      ]
     },
     "execution_count": 7,
     "metadata": {},
     "output_type": "execute_result"
    }
   ],
   "source": [
    "sum([1 if len(qa[\"answer\"]) > 150 else 0 for qa in result])"
   ]
  },
  {
   "cell_type": "code",
   "execution_count": 8,
   "id": "6894e176-039b-42fa-b4a9-740873c4eb5a",
   "metadata": {},
   "outputs": [],
   "source": [
    "gt_dataset = [qa_pair for qa_pair in result if len(qa_pair[\"answer\"]) > 150]"
   ]
  },
  {
   "cell_type": "code",
   "execution_count": null,
   "id": "af31457c-0d31-47c7-b348-1623cc3e432e",
   "metadata": {},
   "outputs": [],
   "source": []
  },
  {
   "cell_type": "markdown",
   "id": "dffded25-d199-494c-9551-aa3cd15ec38b",
   "metadata": {},
   "source": [
    "# Set up vectorstore and retriever"
   ]
  },
  {
   "cell_type": "code",
   "execution_count": null,
   "id": "ff01af81-cbe7-48a1-a789-2d5d97df5b10",
   "metadata": {},
   "outputs": [],
   "source": []
  },
  {
   "cell_type": "code",
   "execution_count": 9,
   "id": "11c0ca75-0ba1-4b9b-b4b8-503a156e320b",
   "metadata": {},
   "outputs": [],
   "source": [
    "from langchain.schema.vectorstore import VectorStoreRetriever \n",
    "from langchain.schema.embeddings import Embeddings\n",
    "from langchain.embeddings import OpenAIEmbeddings\n",
    "\n",
    "def get_retriever(splits: List[Document], embedding_model: Embeddings,\n",
    "                  num_retrieved_docs: int) -> tuple[VectorStoreRetriever, Embeddings]:\n",
    "    \n",
    "    from langchain.vectorstores import FAISS\n",
    "    \n",
    "    vectorstore = FAISS.from_documents(splits, embedding_model)\n",
    "    retriever = vectorstore.as_retriever(k=num_retrieved_docs)\n",
    "        \n",
    "    return retriever\n",
    "\n",
    "chunks_vs = split_data(data=data, chunk_size=512)\n",
    "retriever = get_retriever(chunks_vs, OpenAIEmbeddings(model=\"text-embedding-ada-002\"), 3)"
   ]
  },
  {
   "cell_type": "code",
   "execution_count": null,
   "id": "1bc65061-a0c0-4316-8872-cdf5ac960b37",
   "metadata": {},
   "outputs": [],
   "source": []
  },
  {
   "cell_type": "markdown",
   "id": "025a103f-9c06-4866-ae87-aa8f2ac86058",
   "metadata": {},
   "source": [
    "# LLM chain for query answering based on document chunks"
   ]
  },
  {
   "cell_type": "code",
   "execution_count": 10,
   "id": "ba9d15c7-a468-4c15-a8b5-9e76e66953ed",
   "metadata": {},
   "outputs": [],
   "source": [
    "import os\n",
    "import sys\n",
    "from pathlib import Path\n",
    "\n",
    "sys.path.append(\"../eval_backend/\")\n",
    "sys.path.append(\"../\")\n",
    "sys.path.append(Path.cwd())"
   ]
  },
  {
   "cell_type": "code",
   "execution_count": 11,
   "id": "87f0494c-8268-4e9e-9e0b-d2058e65334d",
   "metadata": {},
   "outputs": [],
   "source": [
    "from langchain.chains import RetrievalQA\n",
    "from eval_backend.prompts import QA_CHAIN_PROMPT\n",
    "\n",
    "def get_qa_llm(retriever: VectorStoreRetriever, \n",
    "               retrieval_llm=ChatOpenAI(temperature=0, model=\"gpt-3.5-turbo\")) -> RetrievalQA:\n",
    "    \n",
    "    # Select prompt \n",
    "    chain_type_kwargs = {\"prompt\": QA_CHAIN_PROMPT}\n",
    "\n",
    "    qa_llm = RetrievalQA.from_chain_type(llm=retrieval_llm,\n",
    "                                           chain_type=\"stuff\",\n",
    "                                           retriever=retriever,\n",
    "                                           chain_type_kwargs=chain_type_kwargs,\n",
    "                                           input_key=\"question\",\n",
    "                                             \n",
    "                                          )\n",
    "    return qa_llm\n",
    "\n",
    "qa_llm = get_qa_llm(retriever)"
   ]
  },
  {
   "cell_type": "code",
   "execution_count": 12,
   "id": "30f9a0fb-899c-4a9f-bbbf-ea4d842b9c56",
   "metadata": {},
   "outputs": [
    {
     "data": {
      "text/plain": [
       "{'question': 'What is TRAIL.X?',\n",
       " 'result': 'TRAIL.X is a project by msg life that involves the development of deep neural networks (DNNs) for the actuarial computation module in collaboration with the Ludwig Maximilian University of Munich. These DNNs will enable life insurers to replace old system generations and integrate artificial intelligence into their core functions.'}"
      ]
     },
     "execution_count": 12,
     "metadata": {},
     "output_type": "execute_result"
    }
   ],
   "source": [
    "qa_llm(\"What is TRAIL.X?\")"
   ]
  },
  {
   "cell_type": "code",
   "execution_count": null,
   "id": "b7561288-a52e-4d27-be01-882bed8a260f",
   "metadata": {},
   "outputs": [],
   "source": []
  },
  {
   "cell_type": "markdown",
   "id": "91ac142f-b2a8-4796-ba06-c6d1ff31bf3a",
   "metadata": {},
   "source": [
    "# QA_LLM grading functions"
   ]
  },
  {
   "cell_type": "code",
   "execution_count": 13,
   "id": "1a486ab7-611b-4078-90f8-434e08c41a92",
   "metadata": {},
   "outputs": [],
   "source": [
    "from eval_backend.prompts import (GRADE_ANSWER_PROMPT_FAST,\n",
    "GRADE_ANSWER_PROMPT_BIAS_CHECK, \n",
    "GRADE_ANSWER_PROMPT_OPENAI,\n",
    "GRADE_ANSWER_PROMPT,\n",
    "GRADE_ANSWER_PROMPT_WITH_GRADING,\n",
    "GRADE_ANSWER_PROMPT_WITH_GRADING_JUSTIFICATION)\n",
    "\n",
    "def grade_model_answer(gt_datase: List[Dict[str,str]], \n",
    "                       predictions: List[str],\n",
    "                       grade_answer_prompt: str, \n",
    "                       grader_llm: Optional[BaseLanguageModel] = ChatOpenAI(model_name=\"gpt-3.5-turbo\", temperature=0)):\n",
    "\n",
    "    from langchain.evaluation.qa import QAEvalChain    \n",
    "    \n",
    "    if grade_answer_prompt == \"Fast\":\n",
    "        prompt = GRADE_ANSWER_PROMPT_FAST\n",
    "    elif grade_answer_prompt == \"Descriptive w/ bias check\":\n",
    "        prompt = GRADE_ANSWER_PROMPT_BIAS_CHECK\n",
    "    elif grade_answer_prompt == \"OpenAI grading prompt\":\n",
    "        prompt = GRADE_ANSWER_PROMPT_OPENAI\n",
    "    elif grade_answer_prompt == \"Grade w/o Reasoning\":\n",
    "        prompt = GRADE_ANSWER_PROMPT_WITH_GRADING\n",
    "    elif grade_answer_prompt == \"Grade w/ Reasoning\":\n",
    "        prompt = GRADE_ANSWER_PROMPT_WITH_GRADING_JUSTIFICATION\n",
    "    else:\n",
    "        prompt = GRADE_ANSWER_PROMPT\n",
    "\n",
    "    # Note: GPT-4 grader is advised by OAI model_name=\"gpt-4\"\n",
    "    eval_chain = QAEvalChain.from_llm(llm=grader_llm,\n",
    "                                      prompt=prompt, \n",
    "                                      verbose=False)\n",
    "    \n",
    "    graded_outputs = eval_chain.evaluate(gt_datase,\n",
    "                                         predictions,\n",
    "                                         question_key=\"question\",\n",
    "                                         prediction_key=\"result\")\n",
    "\n",
    "    #average_grade = np.average([int(grade[\"results\"][-1]) for grade in graded_outputs])\n",
    "\n",
    "    return graded_outputs#, average_grade"
   ]
  },
  {
   "cell_type": "code",
   "execution_count": null,
   "id": "f76dcbf2-0eed-4a82-a444-088da48e458e",
   "metadata": {},
   "outputs": [],
   "source": []
  },
  {
   "cell_type": "code",
   "execution_count": 14,
   "id": "54ff8d04-8b20-4878-9138-a30362f837d4",
   "metadata": {},
   "outputs": [
    {
     "data": {
      "text/plain": [
       "{'question': 'Who are the members of the Management Board of msg life ag as of 31 December 2021?',\n",
       " 'answer': 'The members of the Management Board of msg life ag as of 31 December 2021 are Rolf Zielke (Chairman), Dr Aristid Neuburger (Deputy Chairman), Francesco Cargnel, Holger Gorissen, Robert Hess, Milenko Radic, Jens Stäcker, and Dr Wolf Wiedmann.'}"
      ]
     },
     "execution_count": 14,
     "metadata": {},
     "output_type": "execute_result"
    }
   ],
   "source": [
    "gt_dataset[0]"
   ]
  },
  {
   "cell_type": "code",
   "execution_count": 15,
   "id": "04e3cb4e-09e3-4edc-b847-3e9685b8dbf7",
   "metadata": {},
   "outputs": [
    {
     "data": {
      "text/plain": [
       "{'question': 'Who are the members of the Management Board of msg life ag as of 31 December 2021?',\n",
       " 'result': 'As of 31 December 2021, the members of the Management Board of msg life ag were Rolf Zielke (Chairman), Dr Aristid Neuburger (Deputy Chairman), Francesco Cargnel, Milenko Radic, and Dr Wolf Wiedmann.'}"
      ]
     },
     "execution_count": 15,
     "metadata": {},
     "output_type": "execute_result"
    }
   ],
   "source": [
    "qa_llm_answer = qa_llm(gt_dataset[0][\"question\"])\n",
    "qa_llm_answer"
   ]
  },
  {
   "cell_type": "code",
   "execution_count": 16,
   "id": "51d8646e-d3cc-4f80-bd03-f08c56cf899f",
   "metadata": {},
   "outputs": [
    {
     "data": {
      "text/plain": [
       "[{'results': 'SCORE: 2\\n\\nJUSTIFICATION: The student answer is mostly correct as it includes several members of the Management Board of msg life ag as of 31 December 2021. However, it is missing some members mentioned in the true answer. The question does not appear to have any bias. The true answer may have bias as it includes additional members not mentioned in the student answer.'}]"
      ]
     },
     "execution_count": 16,
     "metadata": {},
     "output_type": "execute_result"
    }
   ],
   "source": [
    "grade_model_answer([gt_dataset[0]],\n",
    "                   [qa_llm_answer],\n",
    "                   grade_answer_prompt=\"Grade w/ Reasoning\")"
   ]
  },
  {
   "cell_type": "code",
   "execution_count": null,
   "id": "1659a8d2-6928-44cb-99ef-25dd4ba78b94",
   "metadata": {},
   "outputs": [],
   "source": []
  },
  {
   "cell_type": "code",
   "execution_count": 17,
   "id": "bbcd5f08-5a4d-440d-aef6-1c6d0f70a1c0",
   "metadata": {},
   "outputs": [],
   "source": [
    "# test for incorrect answer\n",
    "qa_predicted = qa_llm(\"What is the Life Factory?\")\n",
    "qa_predicted[\"question\"] = gt_dataset[0][\"question\"]"
   ]
  },
  {
   "cell_type": "code",
   "execution_count": 18,
   "id": "d3c2246a-ad52-43b5-b04a-1766bf11e9a3",
   "metadata": {},
   "outputs": [
    {
     "data": {
      "text/plain": [
       "{'question': 'Who are the members of the Management Board of msg life ag as of 31 December 2021?',\n",
       " 'result': 'The Life Factory is a policy management system developed by msg life. It is used for managing life insurance and pension products.'}"
      ]
     },
     "execution_count": 18,
     "metadata": {},
     "output_type": "execute_result"
    }
   ],
   "source": [
    "qa_predicted"
   ]
  },
  {
   "cell_type": "code",
   "execution_count": 19,
   "id": "3dd31d69-bad6-42ec-8a1f-ba6ee48732b8",
   "metadata": {},
   "outputs": [
    {
     "data": {
      "text/plain": [
       "[{'results': 'SCORE: 1\\n\\nJUSTIFICATION: The student answer is incorrect because it does not provide any information about the members of the Management Board of msg life ag as of 31 December 2021. The question is unbiased and straightforward. The true answer may be biased as it only provides the names of the members without any additional context or information.'}]"
      ]
     },
     "execution_count": 19,
     "metadata": {},
     "output_type": "execute_result"
    }
   ],
   "source": [
    "grade_model_answer([gt_dataset[0]],\n",
    "                   [qa_predicted],\n",
    "                   grade_answer_prompt=\"Grade w/ Reasoning\")"
   ]
  },
  {
   "cell_type": "code",
   "execution_count": null,
   "id": "ed1987b3-5e8b-4eac-bec8-7bcb172488e0",
   "metadata": {},
   "outputs": [],
   "source": []
  },
  {
   "cell_type": "code",
   "execution_count": 20,
   "id": "6328210c-1865-4ec3-9734-9831097c7ea1",
   "metadata": {},
   "outputs": [],
   "source": [
    "from eval_backend.prompts import GRADE_DOCS_PROMPT_FAST, GRADE_DOCS_PROMPT\n",
    "\n",
    "def grade_model_retrieval(gt_dataset: List[Dict], predictions: List[str],\n",
    "                          grade_docs_prompt: str,\n",
    "                          grader_llm: Optional[BaseLanguageModel] = ChatOpenAI(model_name=\"gpt-3.5-turbo\", temperature=0)):\n",
    "    \n",
    "    from langchain.evaluation.qa import QAEvalChain    \n",
    "\n",
    "    if grade_docs_prompt == \"Fast\":\n",
    "        prompt = GRADE_DOCS_PROMPT_FAST\n",
    "    else:\n",
    "        prompt = GRADE_DOCS_PROMPT\n",
    "\n",
    "    # Note: GPT-4 grader is advised by OAI\n",
    "    eval_chain = QAEvalChain.from_llm(llm=grader_llm,\n",
    "                                      prompt=prompt)\n",
    "    \n",
    "    graded_outputs = eval_chain.evaluate(gt_dataset,\n",
    "                                         predictions,\n",
    "                                         question_key=\"question\",\n",
    "                                         answer_key=\"answer\",\n",
    "                                         prediction_key=\"result\")\n",
    "\n",
    "    #average_grade = np.average([0 if \"incorrect\" in grade[\"results\"][:30].lower() else 1 for grade in graded_outputs])\n",
    "    \n",
    "    return graded_outputs#, average_grade"
   ]
  },
  {
   "cell_type": "code",
   "execution_count": 21,
   "id": "25f884e9-77c8-43d6-befb-6378a4accd93",
   "metadata": {},
   "outputs": [
    {
     "data": {
      "text/plain": [
       "[{'results': 'GRADE: Correct\\n\\nJUSTIFICATION: The documents clearly state that the members of the Management Board of msg life ag as of 31 December 2021 are Rolf Zielke (Chairman), Dr Aristid Neuburger (Deputy Chairman), Francesco Cargnel, Holger Gorissen, Robert Hess, Milenko Radic, Jens Stäcker, and Dr Wolf Wiedmann.'}]"
      ]
     },
     "execution_count": 21,
     "metadata": {},
     "output_type": "execute_result"
    }
   ],
   "source": [
    "docs_retrieved = retriever.get_relevant_documents(gt_dataset[0][\"question\"])\n",
    "\n",
    "retrieved_doc_text = \"\"\n",
    "for i, doc in enumerate(docs_retrieved):\n",
    "    retrieved_doc_text += \"Doc %s: \" % str(i+1) + doc.page_content + \" \"\n",
    "\n",
    "retrieved_dict = {\"question\": gt_dataset[0][\"question\"],\n",
    "             \"answer\": gt_dataset[0][\"answer\"], \"result\": retrieved_doc_text}\n",
    "\n",
    "grade_model_retrieval([gt_dataset[0]],\n",
    "                      [retrieved_dict],\n",
    "                      grade_docs_prompt=\"\")"
   ]
  },
  {
   "cell_type": "code",
   "execution_count": null,
   "id": "e687bfc8-9186-4802-90ca-4fb28a58602f",
   "metadata": {},
   "outputs": [],
   "source": []
  },
  {
   "cell_type": "code",
   "execution_count": 22,
   "id": "444a9e48-2278-4324-b01d-94d8bd1ebf9c",
   "metadata": {},
   "outputs": [],
   "source": [
    "def grade_embedding_similarity(gt_dataset: List[Dict[str,str]], predictions: List[str],\n",
    "                                retriever: VectorStoreRetriever, embedding_model: Embeddings) -> List[float]:\n",
    "\n",
    "    m=len(gt_dataset)\n",
    "\n",
    "    target_embeddings = np.array(embedding_model.embed_documents([qa_pair[\"answer\"] for qa_pair in gt_dataset])).reshape(m, -1)\n",
    "    predicted_embeddings = np.array(embedding_model.embed_documents(predictions)).reshape(m, -1)\n",
    "\n",
    "    # similarities between openai embeddings ranges from 0.7 - 1.0 only\n",
    "    similarities = target_embeddings @ predicted_embeddings.T\n",
    "\n",
    "    return np.diag(similarities)"
   ]
  },
  {
   "cell_type": "code",
   "execution_count": 23,
   "id": "c2d0d2f4-671b-4fcd-8cef-0fc0c71a5af0",
   "metadata": {},
   "outputs": [
    {
     "data": {
      "text/plain": [
       "array([0.99292227, 0.71218124])"
      ]
     },
     "execution_count": 23,
     "metadata": {},
     "output_type": "execute_result"
    }
   ],
   "source": [
    "grade_embedding_similarity([gt_dataset[0], gt_dataset[0]],\n",
    "                            [qa_llm.run(gt_dataset[0][\"question\"]), qa_llm.run(gt_dataset[15][\"question\"])],\n",
    "                            retriever=retriever,\n",
    "                            embedding_model=OpenAIEmbeddings(model=\"text-embedding-ada-002\"))"
   ]
  },
  {
   "cell_type": "code",
   "execution_count": null,
   "id": "2fa625c8-74a0-4892-86e0-14a90967dc70",
   "metadata": {},
   "outputs": [],
   "source": []
  },
  {
   "cell_type": "code",
   "execution_count": 24,
   "id": "582e6645-1508-4474-96c4-2a301c90e6c0",
   "metadata": {},
   "outputs": [
    {
     "data": {
      "text/plain": [
       "('The members of the Management Board of msg life ag as of 31 December 2021 are Rolf Zielke (Chairman), Dr Aristid Neuburger (Deputy Chairman), Francesco Cargnel, Holger Gorissen, Robert Hess, Milenko Radic, Jens Stäcker, and Dr Wolf Wiedmann.',\n",
       " 'As of 31 December 2021, the members of the Management Board of msg life ag were Rolf Zielke (Chairman), Dr Aristid Neuburger (Deputy Chairman), Francesco Cargnel, Milenko Radic, and Dr Wolf Wiedmann.')"
      ]
     },
     "execution_count": 24,
     "metadata": {},
     "output_type": "execute_result"
    }
   ],
   "source": [
    "true_answer = gt_dataset[0][\"answer\"]\n",
    "pred_answer = qa_llm.run(gt_dataset[0][\"question\"])\n",
    "\n",
    "true_answer, pred_answer"
   ]
  },
  {
   "cell_type": "code",
   "execution_count": 25,
   "id": "1eeba613-fd3c-4188-ac2f-67cf6ad26086",
   "metadata": {},
   "outputs": [
    {
     "data": {
      "text/plain": [
       "{'rouge1': 0.8732394366197183,\n",
       " 'rouge2': 0.7536231884057972,\n",
       " 'rougeL': 0.7323943661971831,\n",
       " 'rougeLsum': 0.7323943661971831}"
      ]
     },
     "execution_count": 25,
     "metadata": {},
     "output_type": "execute_result"
    }
   ],
   "source": [
    "import evaluate\n",
    "\n",
    "rouge_metric = evaluate.load(\"rouge\")\n",
    "\n",
    "rouge_metric.compute(references=[true_answer], predictions=[pred_answer])"
   ]
  },
  {
   "cell_type": "code",
   "execution_count": null,
   "id": "2afd58b2-0a3c-44a3-ac0e-369980fbc088",
   "metadata": {},
   "outputs": [],
   "source": []
  },
  {
   "cell_type": "code",
   "execution_count": null,
   "id": "dcafc13e-c809-4ab2-86a8-0a1a07b06207",
   "metadata": {},
   "outputs": [],
   "source": []
  },
  {
   "cell_type": "code",
   "execution_count": 26,
   "id": "107f1d1c-4f32-4ad2-a8e5-215fbfdd9809",
   "metadata": {},
   "outputs": [
    {
     "name": "stdout",
     "output_type": "stream",
     "text": [
      "{'rouge1': 0.5454545454545454, 'rouge2': 0.22222222222222224, 'rougeL': 0.5454545454545454, 'rougeLsum': 0.5454545454545454}\n"
     ]
    }
   ],
   "source": [
    "predictions = [\"my cat ate the cake\"]\n",
    "references = [\"my dog wants the cake too\"]\n",
    "results = rouge_metric.compute(predictions=predictions, references=references)\n",
    "print(results)"
   ]
  },
  {
   "cell_type": "code",
   "execution_count": 27,
   "id": "754991b5-6303-4f94-8efe-346fdf6d0ede",
   "metadata": {},
   "outputs": [
    {
     "data": {
      "text/plain": [
       "(0.5454545454545454, 0.22222222222222224)"
      ]
     },
     "execution_count": 27,
     "metadata": {},
     "output_type": "execute_result"
    }
   ],
   "source": [
    "2 * (3/6 * 3/5) / (3/6 + 3/5), 2 * (1/5 * 1/4) / (1/5 + 1/4), "
   ]
  },
  {
   "cell_type": "code",
   "execution_count": null,
   "id": "b5325be3-726a-4305-afa6-4cccdf5ec719",
   "metadata": {},
   "outputs": [],
   "source": []
  }
 ],
 "metadata": {
  "kernelspec": {
   "display_name": "Python 3 (ipykernel)",
   "language": "python",
   "name": "python3"
  },
  "language_info": {
   "codemirror_mode": {
    "name": "ipython",
    "version": 3
   },
   "file_extension": ".py",
   "mimetype": "text/x-python",
   "name": "python",
   "nbconvert_exporter": "python",
   "pygments_lexer": "ipython3",
   "version": "3.11.5"
  }
 },
 "nbformat": 4,
 "nbformat_minor": 5
}
