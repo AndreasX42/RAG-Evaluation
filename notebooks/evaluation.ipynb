{
 "cells": [
  {
   "cell_type": "code",
   "execution_count": null,
   "id": "a3f077f9-cb9d-4b61-b3a9-72bcb2fd57c0",
   "metadata": {},
   "outputs": [],
   "source": [
    "import warnings\n",
    "warnings.filterwarnings('ignore')\n",
    "\n",
    "import dotenv\n",
    "dotenv.load_dotenv(dotenv.find_dotenv(), override=True)\n",
    "\n",
    "import numpy as np\n",
    "\n",
    "from typing import Any, Dict, List, Optional, Callable\n",
    "\n",
    "from langchain.docstore.document import Document\n",
    "from langchain.schema.language_model import BaseLanguageModel\n",
    "from langchain.chat_models import ChatOpenAI\n",
    "from langchain.embeddings import OpenAIEmbeddings\n",
    "\n",
    "import os\n",
    "import sys\n",
    "from pathlib import Path\n",
    "\n",
    "sys.path.append(\"../eval_backend/\")\n",
    "sys.path.append(\"../\")\n",
    "sys.path.append(Path.cwd())\n",
    "\n",
    "import json\n",
    "with open(\"./eval_set.json\", \"r\", encoding=\"utf-8\") as file:\n",
    "    # Load existing data into a list\n",
    "    gt_dataset = json.load(file)"
   ]
  },
  {
   "cell_type": "markdown",
   "id": "5bc0d927-ecba-41fc-8378-35de3fab0d55",
   "metadata": {},
   "source": [
    "# load and split data into chunks"
   ]
  },
  {
   "cell_type": "code",
   "execution_count": null,
   "id": "c1b9c062-57f2-4bca-bf89-1b039a1293fc",
   "metadata": {},
   "outputs": [],
   "source": [
    "from eval_backend.utils import load_and_chunk_doc, get_qa_llm, get_retriever\n",
    "from eval_backend.commons.configurations import QAConfigurations\n",
    "import glob\n",
    "\n",
    "qa_gen_configs = {\n",
    "        \"chunk_size\": 512,\n",
    "        \"chunk_overlap\": 0,\n",
    "        \"qa_generator_llm\": \"gpt-3.5-turbo\",\n",
    "        \"length_function_name\": \"text-embedding-ada-002\",\n",
    "        \"generate_eval_set\": False,\n",
    "    }\n",
    "\n",
    "hp = QAConfigurations.from_dict(qa_gen_configs)\n",
    "\n",
    "\n",
    "llm = ChatOpenAI(temperature=0, model=\"gpt-3.5-turbo\")\n",
    "emb = OpenAIEmbeddings()\n",
    "\n",
    "chunks = load_and_chunk_doc(hp, glob.glob(\"../resources/document_store/*.pdf\")[1])\n",
    "retriever = get_retriever(chunks,emb,3)\n",
    "qa_llm = get_qa_llm(retriever, llm)\n",
    "\n",
    "print(f\"number of tokens in document: {sum([llm.get_num_tokens(chunk.page_content) for chunk in chunks])}\\\n",
    "\\nnumber of chunks: {len(chunks)}\\\n",
    "\\naverage number of tokens per chunk: {np.average([llm.get_num_tokens(chunk.page_content) for chunk in chunks])}\")"
   ]
  },
  {
   "cell_type": "code",
   "execution_count": null,
   "id": "2195cd31-33a9-46fc-8750-7b540a8f4d8f",
   "metadata": {},
   "outputs": [],
   "source": [
    "import chromadb\n",
    "\n",
    "client = chromadb.PersistentClient(\"./chroma_vs/\")\n",
    "eval_set_collection = client.create_collection(\"eval_set\")"
   ]
  },
  {
   "cell_type": "code",
   "execution_count": null,
   "id": "ec97e277-c6db-4190-a389-9bdf46fd88e7",
   "metadata": {},
   "outputs": [],
   "source": [
    "import uuid\n",
    "\n",
    "for chunk in chunks:\n",
    "    id = str(uuid.uuid4())\n",
    "    chunk.metadata.update({\"id\": id})"
   ]
  },
  {
   "cell_type": "code",
   "execution_count": null,
   "id": "b9b9a67d-2b60-470f-a1ac-45b04755fab6",
   "metadata": {},
   "outputs": [],
   "source": [
    "embs = emb.embed_documents([chunk.page_content for chunk in chunks])"
   ]
  },
  {
   "cell_type": "code",
   "execution_count": null,
   "id": "c1e94b65-587d-4756-9922-f247ead4da82",
   "metadata": {},
   "outputs": [],
   "source": [
    "d = [{\"openai\": v} for v in embs]"
   ]
  },
  {
   "cell_type": "code",
   "execution_count": null,
   "id": "d99c00ca-533d-4366-8a24-6d22e3a4d178",
   "metadata": {},
   "outputs": [],
   "source": [
    "import itertools\n",
    "x = [[1,2,3],[4,5,6], []]\n",
    "list(itertools.chain.from_iterable(x))"
   ]
  },
  {
   "cell_type": "code",
   "execution_count": null,
   "id": "99668bcd-3b71-47ac-a5b0-de4c8d8117fe",
   "metadata": {},
   "outputs": [],
   "source": [
    "import chromadb\n",
    "client = chromadb.PersistentClient(\"../eval_backend/testsetgen/vectorstore/\")\n",
    "\n",
    "c = client.get_collection(\"text-embedding-ada-002\")"
   ]
  },
  {
   "cell_type": "code",
   "execution_count": null,
   "id": "34b1f4f3-bf81-4504-84c9-00526b5295f5",
   "metadata": {},
   "outputs": [],
   "source": []
  },
  {
   "cell_type": "code",
   "execution_count": null,
   "id": "0fea4a08-e15a-4087-b744-bdd2df02845f",
   "metadata": {},
   "outputs": [],
   "source": [
    "class Book:\n",
    "    ivalue: int = 1\n",
    "\n",
    "    def __init__(self, ivalue: int):\n",
    "        self.ivalue=ivalue\n",
    "\n",
    "    @classmethod\n",
    "    def getivalue(cls):\n",
    "        return cls.ivalue\n",
    "\n",
    "b = Book(100)\n",
    "\n",
    "Book.getivalue()\n",
    "b.ivalue"
   ]
  },
  {
   "cell_type": "code",
   "execution_count": null,
   "id": "f2898160-0ff8-4332-a998-b9372a45173d",
   "metadata": {},
   "outputs": [],
   "source": []
  },
  {
   "cell_type": "code",
   "execution_count": null,
   "id": "fb804a17-9fa3-4ca6-9593-ccee30db529f",
   "metadata": {},
   "outputs": [],
   "source": []
  },
  {
   "cell_type": "code",
   "execution_count": null,
   "id": "43261c98-3e67-4b14-9a58-cba801460767",
   "metadata": {},
   "outputs": [],
   "source": []
  },
  {
   "cell_type": "code",
   "execution_count": null,
   "id": "ece3f377-e599-4a37-a8f2-52eaa918ba34",
   "metadata": {},
   "outputs": [],
   "source": []
  },
  {
   "cell_type": "code",
   "execution_count": null,
   "id": "b1405781-7e7a-4916-81ed-c1ab2ed33d3f",
   "metadata": {},
   "outputs": [],
   "source": []
  },
  {
   "cell_type": "markdown",
   "id": "864a584f-ecab-45be-815a-acc3c515c3f6",
   "metadata": {},
   "source": [
    "# Generate Q/A pairs"
   ]
  },
  {
   "cell_type": "code",
   "execution_count": null,
   "id": "e718144d-8fa6-41e3-8fbf-467cf93cc40a",
   "metadata": {},
   "outputs": [],
   "source": [
    "# generate a Q/A pair for a document chunk\n",
    "# result = generate_eval_set(llm, chunks)\n",
    "# from eval_backend.utils import write_json\n",
    "# write_json(gt_dataset, filename=\"./eval_set.json\")"
   ]
  },
  {
   "cell_type": "code",
   "execution_count": null,
   "id": "e83baab1-7f3d-402f-9c2e-cf281c3e7fde",
   "metadata": {
    "scrolled": true
   },
   "outputs": [],
   "source": [
    "d =     {\n",
    "        \"chunk_size\": 2048,\n",
    "        \"chunk_overlap\": 0,\n",
    "        \"num_retrieved_docs\": 3,\n",
    "        \"use_llm_grader\": False,\n",
    "        \"length_function_name\": \"text-embedding-ada-002\",\n",
    "        \"grade_answer_prompt\": \"3cats_zero_shot\",\n",
    "        \"grade_docs_prompt\": \"default\",\n",
    "        \"embedding_model\": \"text-embedding-ada-002\",\n",
    "        \"retrieval_llm\": \"gpt-3.5-turbo\",\n",
    "        \"grader_llm\": \"gpt-4\"\n",
    "    }\n",
    "\n",
    "\n",
    "res = await generate_eval_set(d, doc)"
   ]
  },
  {
   "cell_type": "code",
   "execution_count": null,
   "id": "b019b039-999f-48cf-b747-a6aea53fbad8",
   "metadata": {},
   "outputs": [],
   "source": [
    "pprint(res)"
   ]
  },
  {
   "cell_type": "code",
   "execution_count": null,
   "id": "eec70e59-a9f5-4302-818c-755da9289b7f",
   "metadata": {},
   "outputs": [],
   "source": []
  },
  {
   "cell_type": "code",
   "execution_count": null,
   "id": "54e5eb66-6c64-44b8-8056-36a5ee4aec40",
   "metadata": {},
   "outputs": [],
   "source": [
    "from langchain.chains import QAGenerationChain\n",
    "from commons import QA_PROMPT_SELECTOR\n",
    "\n",
    "eval_set = []\n",
    "qa_chain = QAGenerationChain.from_llm(hp.retrieval_llm, prompt=QA_PROMPT_SELECTOR.get_prompt(hp.retrieval_llm))\n",
    "\n",
    "await get_qa_from_chunk(chunks[7], qa_chain, eval_set)"
   ]
  },
  {
   "cell_type": "code",
   "execution_count": null,
   "id": "780eeaf9-7a62-46d6-ab9b-be556ac87fd5",
   "metadata": {},
   "outputs": [],
   "source": [
    "eval_set"
   ]
  },
  {
   "cell_type": "code",
   "execution_count": null,
   "id": "8590ade7-454b-4695-a59b-ebc72f33b241",
   "metadata": {},
   "outputs": [],
   "source": []
  },
  {
   "cell_type": "code",
   "execution_count": null,
   "id": "73107f61-58c2-4134-8556-9b11f925f7aa",
   "metadata": {},
   "outputs": [],
   "source": [
    "eval_set1 = []\n",
    "qa_chain = QAGenerationChain.from_llm(hp.retrieval_llm)\n",
    "\n",
    "await get_qa_from_chunk(chunks[7], qa_chain, eval_set1)"
   ]
  },
  {
   "cell_type": "code",
   "execution_count": null,
   "id": "cfc8a626-1845-41a3-92c8-21cd0aabdfe4",
   "metadata": {},
   "outputs": [],
   "source": [
    "pprint(eval_set1)"
   ]
  },
  {
   "cell_type": "code",
   "execution_count": null,
   "id": "44c10d30-877b-4dca-91da-21c165db58bc",
   "metadata": {},
   "outputs": [],
   "source": []
  },
  {
   "cell_type": "code",
   "execution_count": null,
   "id": "932cc2d2-f788-4e62-858f-a7c9865871d7",
   "metadata": {},
   "outputs": [],
   "source": []
  },
  {
   "cell_type": "code",
   "execution_count": null,
   "id": "14e29e91-1e44-4501-a256-f258f20ce209",
   "metadata": {},
   "outputs": [],
   "source": []
  },
  {
   "cell_type": "code",
   "execution_count": null,
   "id": "b22b2c00-b6d0-4ed4-9bc0-6a25e83a7108",
   "metadata": {},
   "outputs": [],
   "source": [
    "def pprint(eval):\n",
    "    for qa in eval:\n",
    "        print(qa[\"question\"])\n",
    "        print(qa[\"answer\"])\n",
    "        print(\"-\"*50)"
   ]
  },
  {
   "cell_type": "code",
   "execution_count": null,
   "id": "a0f1318a-77de-44c1-b90a-a625dd2b4117",
   "metadata": {},
   "outputs": [],
   "source": []
  },
  {
   "cell_type": "code",
   "execution_count": null,
   "id": "0ef2a43e-8d2e-4010-8068-e869f6a26cd1",
   "metadata": {},
   "outputs": [],
   "source": [
    "for qa in gt_dataset:\n",
    "    if len(qa['answer'])>200:\n",
    "        print(qa[\"question\"])\n",
    "        print(f\"-> {qa['answer']}\")\n",
    "        print(\"-\"*50)"
   ]
  },
  {
   "cell_type": "code",
   "execution_count": null,
   "id": "d4f28386-5340-4362-a6b5-bbb49da6f8a8",
   "metadata": {},
   "outputs": [],
   "source": []
  },
  {
   "cell_type": "code",
   "execution_count": null,
   "id": "4fed3c9f-72c6-4c0b-bb38-6d0d1e18ae77",
   "metadata": {},
   "outputs": [],
   "source": []
  },
  {
   "cell_type": "code",
   "execution_count": null,
   "id": "300a2662-31be-4177-9074-031a0360c1b1",
   "metadata": {},
   "outputs": [],
   "source": []
  },
  {
   "cell_type": "code",
   "execution_count": null,
   "id": "0026a487-2faf-4f2c-92bf-fa2d223c13f7",
   "metadata": {},
   "outputs": [],
   "source": []
  },
  {
   "cell_type": "code",
   "execution_count": null,
   "id": "cd960e1e-c8ad-4717-a0af-6c7e3161dc69",
   "metadata": {},
   "outputs": [],
   "source": []
  },
  {
   "cell_type": "code",
   "execution_count": null,
   "id": "426f0f5c-6c02-46f5-83a8-314f8b6ad8c9",
   "metadata": {},
   "outputs": [],
   "source": []
  },
  {
   "cell_type": "code",
   "execution_count": null,
   "id": "a90581f7-84ad-452a-8207-07ea2b4c9567",
   "metadata": {},
   "outputs": [],
   "source": []
  },
  {
   "cell_type": "markdown",
   "id": "dffded25-d199-494c-9551-aa3cd15ec38b",
   "metadata": {},
   "source": [
    "# Set up vectorstore and retriever"
   ]
  },
  {
   "cell_type": "code",
   "execution_count": null,
   "id": "ff01af81-cbe7-48a1-a789-2d5d97df5b10",
   "metadata": {},
   "outputs": [],
   "source": []
  },
  {
   "cell_type": "code",
   "execution_count": null,
   "id": "11c0ca75-0ba1-4b9b-b4b8-503a156e320b",
   "metadata": {},
   "outputs": [],
   "source": [
    "from langchain.embeddings import OpenAIEmbeddings\n",
    "from eval_backend.utils import get_retriever\n",
    "\n",
    "llm = ChatOpenAI(temperature=0, model=\"gpt-3.5-turbo\")\n",
    "chunks_vs = split_data(data=data, chunk_size=512)\n",
    "retriever = get_retriever(chunks_vs, OpenAIEmbeddings(model=\"text-embedding-ada-002\"), 3)"
   ]
  },
  {
   "cell_type": "code",
   "execution_count": null,
   "id": "1ef61adc-9ac3-4b8e-9a79-44d1a8955a0d",
   "metadata": {},
   "outputs": [],
   "source": []
  },
  {
   "cell_type": "markdown",
   "id": "025a103f-9c06-4866-ae87-aa8f2ac86058",
   "metadata": {},
   "source": [
    "# LLM chain for query answering based on document chunks"
   ]
  },
  {
   "cell_type": "code",
   "execution_count": null,
   "id": "30f9a0fb-899c-4a9f-bbbf-ea4d842b9c56",
   "metadata": {},
   "outputs": [],
   "source": [
    "from eval_backend.utils import get_qa_llm\n",
    "qa_llm = get_qa_llm(retriever)#, retrieval_llm=ChatOpenAI(temperature=0, model=\"gpt-4\"))\n",
    "\n",
    "await qa_llm.acall(\"hi\")"
   ]
  },
  {
   "cell_type": "code",
   "execution_count": null,
   "id": "b7561288-a52e-4d27-be01-882bed8a260f",
   "metadata": {},
   "outputs": [],
   "source": [
    "await qa_llm.acall(gt_dataset[0])"
   ]
  },
  {
   "cell_type": "markdown",
   "id": "91ac142f-b2a8-4796-ba06-c6d1ff31bf3a",
   "metadata": {},
   "source": [
    "# QA_LLM grading functions"
   ]
  },
  {
   "cell_type": "code",
   "execution_count": null,
   "id": "1a486ab7-611b-4078-90f8-434e08c41a92",
   "metadata": {},
   "outputs": [],
   "source": [
    "from eval_backend.eval_metrics import grade_model_answer"
   ]
  },
  {
   "cell_type": "code",
   "execution_count": null,
   "id": "f76dcbf2-0eed-4a82-a444-088da48e458e",
   "metadata": {},
   "outputs": [],
   "source": []
  },
  {
   "cell_type": "code",
   "execution_count": null,
   "id": "54ff8d04-8b20-4878-9138-a30362f837d4",
   "metadata": {},
   "outputs": [],
   "source": [
    "gt_dataset[10]"
   ]
  },
  {
   "cell_type": "code",
   "execution_count": null,
   "id": "04e3cb4e-09e3-4edc-b847-3e9685b8dbf7",
   "metadata": {},
   "outputs": [],
   "source": [
    "qa_llm_answer = qa_llm(gt_dataset[10][\"question\"])\n",
    "qa_llm_answer"
   ]
  },
  {
   "cell_type": "code",
   "execution_count": null,
   "id": "51d8646e-d3cc-4f80-bd03-f08c56cf899f",
   "metadata": {},
   "outputs": [],
   "source": [
    "res = grade_model_answer([gt_dataset[10], gt_dataset[10]],\n",
    "                   [qa_llm_answer, qa_llm_answer],\n",
    "                   grade_answer_prompt=\"GPT4\")"
   ]
  },
  {
   "cell_type": "code",
   "execution_count": null,
   "id": "ee16758f-262b-4e0c-8bb1-2d7cbe198e9e",
   "metadata": {},
   "outputs": [],
   "source": []
  },
  {
   "cell_type": "code",
   "execution_count": null,
   "id": "79895031-2621-4ab4-a8a9-52fd794adef1",
   "metadata": {},
   "outputs": [],
   "source": [
    "res"
   ]
  },
  {
   "cell_type": "code",
   "execution_count": null,
   "id": "1e72c6bf-a754-4d8d-a932-99ade64199a3",
   "metadata": {},
   "outputs": [],
   "source": []
  },
  {
   "cell_type": "code",
   "execution_count": null,
   "id": "bbcd5f08-5a4d-440d-aef6-1c6d0f70a1c0",
   "metadata": {},
   "outputs": [],
   "source": [
    "# test for incorrect answer\n",
    "qa_predicted = qa_llm(\"What is the Life Factory?\")\n",
    "qa_predicted[\"question\"] = gt_dataset[0][\"question\"]"
   ]
  },
  {
   "cell_type": "code",
   "execution_count": null,
   "id": "d3c2246a-ad52-43b5-b04a-1766bf11e9a3",
   "metadata": {},
   "outputs": [],
   "source": [
    "qa_predicted"
   ]
  },
  {
   "cell_type": "code",
   "execution_count": null,
   "id": "3dd31d69-bad6-42ec-8a1f-ba6ee48732b8",
   "metadata": {},
   "outputs": [],
   "source": [
    "grade_model_answer([gt_dataset[0]],\n",
    "                   [qa_predicted],\n",
    "                   grade_answer_prompt=\"GPT4\")"
   ]
  },
  {
   "cell_type": "code",
   "execution_count": null,
   "id": "ed1987b3-5e8b-4eac-bec8-7bcb172488e0",
   "metadata": {},
   "outputs": [],
   "source": []
  },
  {
   "cell_type": "code",
   "execution_count": null,
   "id": "862a272a-8f22-41a8-b2c6-e52b03355872",
   "metadata": {},
   "outputs": [],
   "source": []
  },
  {
   "cell_type": "markdown",
   "id": "cad5ddee-cd16-4702-9013-1dc9918127c2",
   "metadata": {},
   "source": [
    "# Calculate quality of retrieved documents"
   ]
  },
  {
   "cell_type": "code",
   "execution_count": null,
   "id": "25f884e9-77c8-43d6-befb-6378a4accd93",
   "metadata": {},
   "outputs": [],
   "source": [
    "from eval_backend.eval_metrics import grade_model_retrieval\n",
    "\n",
    "qa_pair_index = 10\n",
    "query = gt_dataset[qa_pair_index][\"question\"]\n",
    "docs_retrieved = retriever.get_relevant_documents(gt_dataset[10][\"question\"])\n",
    "\n",
    "retrieved_doc_text = \"\\n\\n\".join(f\"Retrieved document {i}: {doc.page_content}\" for i, doc in enumerate(docs_retrieved))\n",
    "\n",
    "retrieved_dict = {\"question\": gt_dataset[qa_pair_index][\"question\"],\n",
    "             \"answer\": gt_dataset[qa_pair_index][\"answer\"], \"result\": retrieved_doc_text}\n",
    "\n",
    "grade_model_retrieval([gt_dataset[qa_pair_index],gt_dataset[qa_pair_index]],\n",
    "                      [retrieved_dict,retrieved_dict],\n",
    "                      grade_docs_prompt=\"x\")"
   ]
  },
  {
   "cell_type": "code",
   "execution_count": null,
   "id": "030b7eaa-44a2-45c7-b608-163cd8e8ec28",
   "metadata": {},
   "outputs": [],
   "source": [
    "gt_dataset[qa_pair_index]"
   ]
  },
  {
   "cell_type": "code",
   "execution_count": null,
   "id": "42739318-f34c-4410-b51a-902c4915036c",
   "metadata": {},
   "outputs": [],
   "source": []
  },
  {
   "cell_type": "code",
   "execution_count": null,
   "id": "e687bfc8-9186-4802-90ca-4fb28a58602f",
   "metadata": {},
   "outputs": [],
   "source": []
  },
  {
   "cell_type": "markdown",
   "id": "578ecd4a-dc18-429a-85ad-74d4f8b37b5a",
   "metadata": {},
   "source": [
    "# Calculate Embedding similarities"
   ]
  },
  {
   "cell_type": "code",
   "execution_count": null,
   "id": "444a9e48-2278-4324-b01d-94d8bd1ebf9c",
   "metadata": {},
   "outputs": [],
   "source": [
    "def grade_embedding_similarity(gt_dataset: List[Dict[str,str]], predictions: List[str],\n",
    "                                retriever: VectorStoreRetriever, embedding_model: Embeddings) -> List[float]:\n",
    "\n",
    "    m=len(gt_dataset)\n",
    "\n",
    "    target_embeddings = np.array(embedding_model.embed_documents([qa_pair[\"answer\"] for qa_pair in gt_dataset])).reshape(m, -1)\n",
    "    predicted_embeddings = np.array(embedding_model.embed_documents(predictions)).reshape(m, -1)\n",
    "\n",
    "    # similarities between openai embeddings ranges from 0.7 - 1.0 only\n",
    "    similarities = target_embeddings @ predicted_embeddings.T\n",
    "\n",
    "    return np.diag(similarities)"
   ]
  },
  {
   "cell_type": "code",
   "execution_count": null,
   "id": "c2d0d2f4-671b-4fcd-8cef-0fc0c71a5af0",
   "metadata": {},
   "outputs": [],
   "source": [
    "grade_embedding_similarity([gt_dataset[0], gt_dataset[0]],\n",
    "                            [qa_llm.run(gt_dataset[0][\"question\"]), qa_llm.run(gt_dataset[15][\"question\"])],\n",
    "                            retriever=retriever,\n",
    "                            embedding_model=OpenAIEmbeddings(model=\"text-embedding-ada-002\"))"
   ]
  },
  {
   "cell_type": "code",
   "execution_count": null,
   "id": "2fa625c8-74a0-4892-86e0-14a90967dc70",
   "metadata": {},
   "outputs": [],
   "source": []
  },
  {
   "cell_type": "code",
   "execution_count": null,
   "id": "582e6645-1508-4474-96c4-2a301c90e6c0",
   "metadata": {},
   "outputs": [],
   "source": [
    "true_answer = gt_dataset[0][\"answer\"]\n",
    "pred_answer = qa_llm.run(gt_dataset[0][\"question\"])\n",
    "\n",
    "true_answer, pred_answer"
   ]
  },
  {
   "cell_type": "code",
   "execution_count": null,
   "id": "1eeba613-fd3c-4188-ac2f-67cf6ad26086",
   "metadata": {},
   "outputs": [],
   "source": [
    "import evaluate\n",
    "\n",
    "rouge_metric = evaluate.load(\"rouge\")\n",
    "\n",
    "rouge_metric.compute(references=[true_answer], predictions=[pred_answer])"
   ]
  },
  {
   "cell_type": "code",
   "execution_count": null,
   "id": "2afd58b2-0a3c-44a3-ac0e-369980fbc088",
   "metadata": {},
   "outputs": [],
   "source": []
  },
  {
   "cell_type": "code",
   "execution_count": null,
   "id": "dcafc13e-c809-4ab2-86a8-0a1a07b06207",
   "metadata": {},
   "outputs": [],
   "source": []
  },
  {
   "cell_type": "code",
   "execution_count": null,
   "id": "107f1d1c-4f32-4ad2-a8e5-215fbfdd9809",
   "metadata": {},
   "outputs": [],
   "source": [
    "predictions = [\"my cat ate the cake\"]\n",
    "references = [\"my dog wants the cake too\"]\n",
    "results = rouge_metric.compute(predictions=predictions, references=references)\n",
    "print(results)"
   ]
  },
  {
   "cell_type": "code",
   "execution_count": null,
   "id": "754991b5-6303-4f94-8efe-346fdf6d0ede",
   "metadata": {},
   "outputs": [],
   "source": [
    "2 * (3/6 * 3/5) / (3/6 + 3/5), 2 * (1/5 * 1/4) / (1/5 + 1/4), "
   ]
  },
  {
   "cell_type": "code",
   "execution_count": null,
   "id": "150c57a5-38e9-4b77-a45f-c1c71c53b17a",
   "metadata": {},
   "outputs": [],
   "source": []
  },
  {
   "cell_type": "code",
   "execution_count": null,
   "id": "031b0a19-4305-4af2-bbcd-d35153910c91",
   "metadata": {},
   "outputs": [],
   "source": []
  },
  {
   "cell_type": "code",
   "execution_count": null,
   "id": "7935cebc-80f8-4abc-b02a-67ffb4e9f91f",
   "metadata": {},
   "outputs": [],
   "source": [
    "import os\n",
    "\n",
    "os.path.exists(\"../resources/eval_data.json\")"
   ]
  },
  {
   "cell_type": "code",
   "execution_count": null,
   "id": "bc45d35e-dabf-493a-809a-99bcf053d786",
   "metadata": {},
   "outputs": [],
   "source": []
  },
  {
   "cell_type": "code",
   "execution_count": null,
   "id": "e08b38e3-94fc-40ed-a9d3-088c390bd422",
   "metadata": {},
   "outputs": [],
   "source": []
  }
 ],
 "metadata": {
  "kernelspec": {
   "display_name": "Python 3 (ipykernel)",
   "language": "python",
   "name": "python3"
  },
  "language_info": {
   "codemirror_mode": {
    "name": "ipython",
    "version": 3
   },
   "file_extension": ".py",
   "mimetype": "text/x-python",
   "name": "python",
   "nbconvert_exporter": "python",
   "pygments_lexer": "ipython3",
   "version": "3.11.6"
  }
 },
 "nbformat": 4,
 "nbformat_minor": 5
}
