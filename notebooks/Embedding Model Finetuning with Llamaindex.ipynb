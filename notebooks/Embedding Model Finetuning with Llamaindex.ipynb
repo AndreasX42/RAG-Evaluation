{
 "cells": [
  {
   "cell_type": "code",
   "execution_count": null,
   "id": "1f644b31-df36-4a52-a4c5-72ca78daa56b",
   "metadata": {},
   "outputs": [],
   "source": [
    "import json\n",
    "\n",
    "from llama_index import SimpleDirectoryReader\n",
    "from llama_index.node_parser import SimpleNodeParser\n",
    "from llama_index.schema import MetadataMode"
   ]
  },
  {
   "cell_type": "code",
   "execution_count": null,
   "id": "0888ff75-4923-44a1-b0db-98f92c9a1098",
   "metadata": {},
   "outputs": [],
   "source": [
    "TRAIN_FILES = [\"../resources/dev/document_store/msg_life-gb-2021-EN_final_16-30.pdf\"]\n",
    "VAL_FILES = [\"../resources/dev/document_store/msg_life-gb-2021-EN_final_31-45.pdf\"]\n",
    "\n",
    "TRAIN_CORPUS_FPATH = \"./emb_model_finetune/train_corpus.json\"\n",
    "VAL_CORPUS_FPATH = \"./emb_model_finetune/val_corpus.json\""
   ]
  },
  {
   "cell_type": "code",
   "execution_count": null,
   "id": "62b56446-669b-4ced-a432-28a62051cc1c",
   "metadata": {},
   "outputs": [],
   "source": [
    "def load_corpus(files, verbose=False):\n",
    "    if verbose:\n",
    "        print(f\"Loading files {files}\")\n",
    "\n",
    "    reader = SimpleDirectoryReader(input_files=files)\n",
    "    docs = reader.load_data()\n",
    "    if verbose:\n",
    "        print(f\"Loaded {len(docs)} docs\")\n",
    "\n",
    "    parser = SimpleNodeParser.from_defaults()\n",
    "    nodes = parser.get_nodes_from_documents(docs, show_progress=verbose)\n",
    "\n",
    "    if verbose:\n",
    "        print(f\"Parsed {len(nodes)} nodes\")\n",
    "\n",
    "    return nodes\n",
    "\n",
    "train_nodes = load_corpus(TRAIN_FILES, verbose=True)\n",
    "val_nodes = load_corpus(VAL_FILES, verbose=True)"
   ]
  },
  {
   "cell_type": "code",
   "execution_count": null,
   "id": "2fde0060-9c71-4433-9177-f203f3ac9b11",
   "metadata": {},
   "outputs": [],
   "source": []
  },
  {
   "cell_type": "code",
   "execution_count": null,
   "id": "d09dd755-ee64-4d57-b2ed-a66041d001e4",
   "metadata": {},
   "outputs": [],
   "source": []
  },
  {
   "cell_type": "code",
   "execution_count": null,
   "id": "2fa3b922-1227-447e-b391-768914398749",
   "metadata": {},
   "outputs": [],
   "source": [
    "from llama_index.finetuning import (\n",
    "    generate_qa_embedding_pairs,\n",
    "    EmbeddingQAFinetuneDataset,\n",
    ")\n",
    "\n",
    "import dotenv\n",
    "dotenv.load_dotenv(dotenv.find_dotenv(),override=True)\n",
    "\n",
    "train_dataset = generate_qa_embedding_pairs(train_nodes)\n",
    "val_dataset = generate_qa_embedding_pairs(val_nodes)"
   ]
  },
  {
   "cell_type": "code",
   "execution_count": null,
   "id": "eb1cfccc-edd4-4d02-9706-e9339fa3002e",
   "metadata": {},
   "outputs": [],
   "source": [
    "train_dataset.save_json(\"./emb_model_finetune/train_dataset.json\")\n",
    "val_dataset.save_json(\"./emb_model_finetune/val_dataset.json\")"
   ]
  },
  {
   "cell_type": "code",
   "execution_count": null,
   "id": "ad0c8034-f6bd-4b7f-a401-f501978782e5",
   "metadata": {},
   "outputs": [],
   "source": []
  },
  {
   "cell_type": "code",
   "execution_count": null,
   "id": "8e30a786-647a-480c-8bb0-6aba1ef8e732",
   "metadata": {},
   "outputs": [],
   "source": [
    "from llama_index.finetuning import SentenceTransformersFinetuneEngine\n",
    "\n",
    "finetune_engine = SentenceTransformersFinetuneEngine(\n",
    "    train_dataset,\n",
    "    model_id=\"BAAI/bge-small-en\",\n",
    "    model_output_path=\"./emb_model_finetune/test_model\",\n",
    "    val_dataset=val_dataset,\n",
    ")"
   ]
  },
  {
   "cell_type": "code",
   "execution_count": null,
   "id": "77765f40-6a87-4a28-926c-95af29101562",
   "metadata": {},
   "outputs": [],
   "source": [
    "finetune_engine.finetune()"
   ]
  },
  {
   "cell_type": "code",
   "execution_count": null,
   "id": "429927b0-0a01-433b-9568-075f25da4e9b",
   "metadata": {},
   "outputs": [],
   "source": []
  },
  {
   "cell_type": "code",
   "execution_count": null,
   "id": "a38f5966-51d8-4ea5-9dbf-d1d825e70aa3",
   "metadata": {},
   "outputs": [],
   "source": []
  },
  {
   "cell_type": "code",
   "execution_count": null,
   "id": "4f296237-5204-44b4-93dd-c3a717fe537c",
   "metadata": {},
   "outputs": [],
   "source": []
  }
 ],
 "metadata": {
  "kernelspec": {
   "display_name": "Python 3 (ipykernel)",
   "language": "python",
   "name": "python3"
  },
  "language_info": {
   "codemirror_mode": {
    "name": "ipython",
    "version": 3
   },
   "file_extension": ".py",
   "mimetype": "text/x-python",
   "name": "python",
   "nbconvert_exporter": "python",
   "pygments_lexer": "ipython3",
   "version": "3.11.6"
  }
 },
 "nbformat": 4,
 "nbformat_minor": 5
}
